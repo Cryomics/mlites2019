{
metadata: {
name: "",
signature: "sha256:6248a0767da3cc11604f053c1e608074ae344353e7b050c42d8b2f7c494d7c3e"
},
nbformat: 3,
nbformat_minor: 0,
worksheets: [
{
cells: [
{
cell_type: "heading",
level: 1,
metadata: { },
source: [
"CS228 Python Tutorial"
]
},
{
cell_type: "markdown",
metadata: { },
source: [
"Adapted by [Volodymyr Kuleshov](http://web.stanford.edu/~kuleshov/) and [Isaac Caswell](https://symsys.stanford.edu/viewing/symsysaffiliate/21335) from the `CS231n` Python tutorial by Justin Johnson (http://cs231n.github.io/python-numpy-tutorial/)."
]
},
{
cell_type: "heading",
level: 2,
metadata: { },
source: [
"Introduction"
]
},
{
cell_type: "markdown",
metadata: { },
source: [
"Python is a great general-purpose programming language on its own, but with the help of a few popular libraries (numpy, scipy, matplotlib) it becomes a powerful environment for scientific computing. ",
" ",
"We expect that many of you will have some experience with Python and numpy; for the rest of you, this section will serve as a quick crash course both on the Python programming language and on the use of Python for scientific computing. ",
" ",
"Some of you may have previous knowledge in Matlab, in which case we also recommend the numpy for Matlab users page (https://docs.scipy.org/doc/numpy-dev/user/numpy-for-matlab-users.html)."
]
},
{
cell_type: "markdown",
metadata: { },
source: [
"In this tutorial, we will cover: ",
" ",
"* Basic Python: Basic data types (Containers, Lists, Dictionaries, Sets, Tuples), Functions, Classes ",
"* Numpy: Arrays, Array indexing, Datatypes, Array math, Broadcasting ",
"* Matplotlib: Plotting, Subplots, Images ",
"* IPython: Creating notebooks, Typical workflows"
]
},
{
cell_type: "heading",
level: 2,
metadata: { },
source: [
"Basics of Python"
]
},
{
cell_type: "markdown",
metadata: { },
source: [
"Python is a high-level, dynamically typed multiparadigm programming language. Python code is often said to be almost like pseudocode, since it allows you to express very powerful ideas in very few lines of code while being very readable. As an example, here is an implementation of the classic quicksort algorithm in Python:"
]
},
{
cell_type: "code",
collapsed: false,
input: [
"def quicksort(arr): ",
" if len(arr) <= 1: ",
" return arr ",
" pivot = arr[len(arr) // 2] ",
" left = [x for x in arr if x < pivot] ",
" middle = [x for x in arr if x == pivot] ",
" right = [x for x in arr if x > pivot] ",
" return quicksort(left) + middle + quicksort(right) ",
" ",
"print quicksort([3,6,8,10,1,2,1])"
],
language: "python",
metadata: { },
outputs: [
{
output_type: "stream",
stream: "stdout",
text: [
"[1, 1, 2, 3, 6, 8, 10] "
]
}
],
prompt_number: 1
},
{
cell_type: "heading",
level: 3,
metadata: { },
source: [
"Python versions"
]
},
{
cell_type: "markdown",
metadata: { },
source: [
"There are currently two different supported versions of Python, 2.7 and 3.4. Somewhat confusingly, Python 3.0 introduced many backwards-incompatible changes to the language, so code written for 2.7 may not work under 3.4 and vice versa. For this class all code will use Python 2.7. ",
" ",
"You can check your Python version at the command line by running `python --version`."
]
},
{
cell_type: "heading",
level: 3,
metadata: { },
source: [
"Basic data types"
]
},
{
cell_type: "heading",
level: 4,
metadata: { },
source: [
"Numbers"
]
},
{
cell_type: "markdown",
metadata: { },
source: [
"Integers and floats work as you would expect from other languages:"
]
},
{
cell_type: "code",
collapsed: false,
input: [
"x = 3 ",
"print x, type(x)"
],
language: "python",
metadata: { },
outputs: [
{
output_type: "stream",
stream: "stdout",
text: [
"3 <type 'int'> "
]
}
],
prompt_number: 13
},
{
cell_type: "code",
collapsed: false,
input: [
"print x + 1 # Addition; ",
"print x - 1 # Subtraction; ",
"print x * 2 # Multiplication; ",
"print x ** 2 # Exponentiation;"
],
language: "python",
metadata: { },
outputs: [
{
output_type: "stream",
stream: "stdout",
text: [
"4 ",
"2 ",
"6 ",
"9 "
]
}
],
prompt_number: 15
},
{
cell_type: "code",
collapsed: false,
input: [
"x += 1 ",
"print x # Prints "4" ",
"x *= 2 ",
"print x # Prints "8""
],
language: "python",
metadata: { },
outputs: [
{
output_type: "stream",
stream: "stdout",
text: [
"4 ",
"8 "
]
}
],
prompt_number: 16
},
{
cell_type: "code",
collapsed: false,
input: [
"y = 2.5 ",
"print type(y) # Prints "<type 'float'>" ",
"print y, y + 1, y * 2, y ** 2 # Prints "2.5 3.5 5.0 6.25""
],
language: "python",
metadata: { },
outputs: [
{
output_type: "stream",
stream: "stdout",
text: [
"<type 'float'> ",
"2.5 3.5 5.0 6.25 "
]
}
],
prompt_number: 17
},
{
cell_type: "markdown",
metadata: { },
source: [
"Note that unlike many languages, Python does not have unary increment (x++) or decrement (x--) operators. ",
" ",
"Python also has built-in types for long integers and complex numbers; you can find all of the details in the [documentation](https://docs.python.org/2/library/stdtypes.html#numeric-types-int-float-long-complex)."
]
},
{
cell_type: "heading",
level: 4,
metadata: { },
source: [
"Booleans"
]
},
{
cell_type: "markdown",
metadata: { },
source: [
"Python implements all of the usual operators for Boolean logic, but uses English words rather than symbols (`&&`, `||`, etc.):"
]
},
{
cell_type: "code",
collapsed: false,
input: [
"t, f = True, False ",
"print type(t) # Prints "<type 'bool'>""
],
language: "python",
metadata: { },
outputs: [
{
output_type: "stream",
stream: "stdout",
text: [
"<type 'bool'> "
]
}
],
prompt_number: 139
},
{
cell_type: "markdown",
metadata: { },
source: [
"Now we let's look at the operations:"
]
},
{
cell_type: "code",
collapsed: false,
input: [
"print t and f # Logical AND; ",
"print t or f # Logical OR; ",
"print not t # Logical NOT; ",
"print t != f # Logical XOR;"
],
language: "python",
metadata: { },
outputs: [
{
output_type: "stream",
stream: "stdout",
text: [
"False ",
"True ",
"False ",
"True "
]
}
],
prompt_number: 140
},
{
cell_type: "heading",
level: 4,
metadata: { },
source: [
"Strings"
]
},
{
cell_type: "code",
collapsed: false,
input: [
"hello = 'hello' # String literals can use single quotes ",
"world = "world" # or double quotes; it does not matter. ",
"print hello, len(hello)"
],
language: "python",
metadata: { },
outputs: [
{
output_type: "stream",
stream: "stdout",
text: [
"hello 5 "
]
}
],
prompt_number: 142
},
{
cell_type: "code",
collapsed: false,
input: [
"hw = hello + ' ' + world # String concatenation ",
"print hw # prints "hello world""
],
language: "python",
metadata: { },
outputs: [
{
output_type: "stream",
stream: "stdout",
text: [
"hello world "
]
}
],
prompt_number: 143
},
{
cell_type: "code",
collapsed: false,
input: [
"hw12 = '%s %s %d' % (hello, world, 12) # sprintf style string formatting ",
"print hw12 # prints "hello world 12""
],
language: "python",
metadata: { },
outputs: [
{
output_type: "stream",
stream: "stdout",
text: [
"hello world 12 "
]
}
],
prompt_number: 144
},
{
cell_type: "markdown",
metadata: { },
source: [
"String objects have a bunch of useful methods; for example:"
]
},
{
cell_type: "code",
collapsed: false,
input: [
"s = "hello" ",
"print s.capitalize() # Capitalize a string; prints "Hello" ",
"print s.upper() # Convert a string to uppercase; prints "HELLO" ",
"print s.rjust(7) # Right-justify a string, padding with spaces; prints " hello" ",
"print s.center(7) # Center a string, padding with spaces; prints " hello " ",
"print s.replace('l', '(ell)') # Replace all instances of one substring with another; ",
" # prints "he(ell)(ell)o" ",
"print ' world '.strip() # Strip leading and trailing whitespace; prints "world""
],
language: "python",
metadata: { },
outputs: [
{
output_type: "stream",
stream: "stdout",
text: [
"Hello ",
"HELLO ",
" hello ",
" hello ",
"he(ell)(ell)o ",
"world "
]
}
],
prompt_number: 26
},
{
cell_type: "markdown",
metadata: { },
source: [
"You can find a list of all string methods in the [documentation](https://docs.python.org/2/library/stdtypes.html#string-methods)."
]
},
{
cell_type: "heading",
level: 3,
metadata: { },
source: [
"Containers"
]
},
{
cell_type: "markdown",
metadata: { },
source: [
"Python includes several built-in container types: lists, dictionaries, sets, and tuples."
]
},
{
cell_type: "heading",
level: 4,
metadata: { },
source: [
"Lists"
]
},
{
cell_type: "markdown",
metadata: { },
source: [
"A list is the Python equivalent of an array, but is resizeable and can contain elements of different types:"
]
},
{
cell_type: "code",
collapsed: false,
input: [
"xs = [3, 1, 2] # Create a list ",
"print xs, xs[2] ",
"print xs[-1] # Negative indices count from the end of the list; prints "2""
],
language: "python",
metadata: { },
outputs: [
{
output_type: "stream",
stream: "stdout",
text: [
"[3, 1, 2] 2 ",
"2 "
]
}
],
prompt_number: 146
},
{
cell_type: "code",
collapsed: false,
input: [
"xs[2] = 'foo' # Lists can contain elements of different types ",
"print xs"
],
language: "python",
metadata: { },
outputs: [
{
output_type: "stream",
stream: "stdout",
text: [
"[3, 1, 'foo'] "
]
}
],
prompt_number: 148
},
{
cell_type: "code",
collapsed: false,
input: [
"xs.append('bar') # Add a new element to the end of the list ",
"print xs "
],
language: "python",
metadata: { },
outputs: [
{
output_type: "stream",
stream: "stdout",
text: [
"[3, 1, 'foo', 'bar'] "
]
}
],
prompt_number: 150
},
{
cell_type: "code",
collapsed: false,
input: [
"x = xs.pop() # Remove and return the last element of the list ",
"print x, xs "
],
language: "python",
metadata: { },
outputs: [
{
output_type: "stream",
stream: "stdout",
text: [
"bar [3, 1, 'foo'] "
]
}
],
prompt_number: 152
},
{
cell_type: "markdown",
metadata: { },
source: [
"As usual, you can find all the gory details about lists in the [documentation](https://docs.python.org/2/tutorial/datastructures.html#more-on-lists)."
]
},
{
cell_type: "heading",
level: 4,
metadata: { },
source: [
"Slicing"
]
},
{
cell_type: "markdown",
metadata: { },
source: [
"In addition to accessing list elements one at a time, Python provides concise syntax to access sublists; this is known as slicing:"
]
},
{
cell_type: "code",
collapsed: false,
input: [
"nums = range(5) # range is a built-in function that creates a list of integers ",
"print nums # Prints "[0, 1, 2, 3, 4]" ",
"print nums[2:4] # Get a slice from index 2 to 4 (exclusive); prints "[2, 3]" ",
"print nums[2:] # Get a slice from index 2 to the end; prints "[2, 3, 4]" ",
"print nums[:2] # Get a slice from the start to index 2 (exclusive); prints "[0, 1]" ",
"print nums[:] # Get a slice of the whole list; prints ["0, 1, 2, 3, 4]" ",
"print nums[:-1] # Slice indices can be negative; prints ["0, 1, 2, 3]" ",
"nums[2:4] = [8, 9] # Assign a new sublist to a slice ",
"print nums # Prints "[0, 1, 8, 9, 4]""
],
language: "python",
metadata: { },
outputs: [
{
output_type: "stream",
stream: "stdout",
text: [
"[0, 1, 2, 3, 4] ",
"[2, 3] ",
"[2, 3, 4] ",
"[0, 1] ",
"[0, 1, 2, 3, 4] ",
"[0, 1, 2, 3] ",
"[0, 1, 8, 9, 4] "
]
}
],
prompt_number: 36
},
{
cell_type: "heading",
level: 4,
metadata: { },
source: [
"Loops"
]
},
{
cell_type: "markdown",
metadata: { },
source: [
"You can loop over the elements of a list like this:"
]
},
{
cell_type: "code",
collapsed: false,
input: [
"animals = ['cat', 'dog', 'monkey'] ",
"for animal in animals: ",
" print animal"
],
language: "python",
metadata: { },
outputs: [
{
output_type: "stream",
stream: "stdout",
text: [
"cat ",
"dog ",
"monkey "
]
}
],
prompt_number: 153
},
{
cell_type: "markdown",
metadata: { },
source: [
"If you want access to the index of each element within the body of a loop, use the built-in `enumerate` function:"
]
},
{
cell_type: "code",
collapsed: false,
input: [
"animals = ['cat', 'dog', 'monkey'] ",
"for idx, animal in enumerate(animals): ",
" print '#%d: %s' % (idx + 1, animal)"
],
language: "python",
metadata: { },
outputs: [
{
output_type: "stream",
stream: "stdout",
text: [
"#1: cat ",
"#2: dog ",
"#3: monkey "
]
}
],
prompt_number: 154
},
{
cell_type: "heading",
level: 4,
metadata: { },
source: [
"List comprehensions:"
]
},
{
cell_type: "markdown",
metadata: { },
source: [
"When programming, frequently we want to transform one type of data into another. As a simple example, consider the following code that computes square numbers:"
]
},
{
cell_type: "code",
collapsed: false,
input: [
"nums = [0, 1, 2, 3, 4] ",
"squares = [] ",
"for x in nums: ",
" squares.append(x ** 2) ",
"print squares"
],
language: "python",
metadata: { },
outputs: [
{
output_type: "stream",
stream: "stdout",
text: [
"[0, 1, 4, 9, 16] "
]
}
],
prompt_number: 155
},
{
cell_type: "markdown",
metadata: { },
source: [
"You can make this code simpler using a list comprehension:"
]
},
{
cell_type: "code",
collapsed: false,
input: [
"nums = [0, 1, 2, 3, 4] ",
"squares = [x ** 2 for x in nums] ",
"print squares"
],
language: "python",
metadata: { },
outputs: [
{
output_type: "stream",
stream: "stdout",
text: [
"[0, 1, 4, 9, 16] "
]
}
],
prompt_number: 156
},
{
cell_type: "markdown",
metadata: { },
source: [
"List comprehensions can also contain conditions:"
]
},
{
cell_type: "code",
collapsed: false,
input: [
"nums = [0, 1, 2, 3, 4] ",
"even_squares = [x ** 2 for x in nums if x % 2 == 0] ",
"print even_squares"
],
language: "python",
metadata: { },
outputs: [
{
output_type: "stream",
stream: "stdout",
text: [
"[0, 4, 16] "
]
}
],
prompt_number: 157
},
{
cell_type: "heading",
level: 4,
metadata: { },
source: [
"Dictionaries"
]
},
{
cell_type: "markdown",
metadata: { },
source: [
"A dictionary stores (key, value) pairs, similar to a `Map` in Java or an object in Javascript. You can use it like this:"
]
},
{
cell_type: "code",
collapsed: false,
input: [
"d = {'cat': 'cute', 'dog': 'furry'} # Create a new dictionary with some data ",
"print d['cat'] # Get an entry from a dictionary; prints "cute" ",
"print 'cat' in d # Check if a dictionary has a given key; prints "True""
],
language: "python",
metadata: { },
outputs: [
{
output_type: "stream",
stream: "stdout",
text: [
"cute ",
"True "
]
}
],
prompt_number: 158
},
{
cell_type: "code",
collapsed: false,
input: [
"d['fish'] = 'wet' # Set an entry in a dictionary ",
"print d['fish'] # Prints "wet""
],
language: "python",
metadata: { },
outputs: [
{
output_type: "stream",
stream: "stdout",
text: [
"wet "
]
}
],
prompt_number: 159
},
{
cell_type: "code",
collapsed: false,
input: [
"print d['monkey'] # KeyError: 'monkey' not a key of d"
],
language: "python",
metadata: { },
outputs: [
{
ename: "KeyError",
evalue: "'monkey'",
output_type: "pyerr",
traceback: [
"[0;31m---------------------------------------------------------------------------[0m [0;31mKeyError[0m Traceback (most recent call last)",
"[0;32m<ipython-input-161-85f0c5ba0fa7>[0m in [0;36m<module>[0;34m()[0m [0;32m----> 1[0;31m [0;32mprint[0m [0md[0m[0;34m[[0m[0;34m'monkey'[0m[0;34m][0m [0;31m# KeyError: 'monkey' not a key of d[0m[0;34m[0m[0m [0m",
"[0;31mKeyError[0m: 'monkey'"
]
}
],
prompt_number: 161
},
{
cell_type: "code",
collapsed: false,
input: [
"print d.get('monkey', 'N/A') # Get an element with a default; prints "N/A" ",
"print d.get('fish', 'N/A') # Get an element with a default; prints "wet""
],
language: "python",
metadata: { },
outputs: [
{
output_type: "stream",
stream: "stdout",
text: [
"N/A ",
"wet "
]
}
],
prompt_number: 162
},
{
cell_type: "code",
collapsed: false,
input: [
"del d['fish'] # Remove an element from a dictionary ",
"print d.get('fish', 'N/A') # "fish" is no longer a key; prints "N/A""
],
language: "python",
metadata: { },
outputs: [
{
output_type: "stream",
stream: "stdout",
text: [
"N/A "
]
}
],
prompt_number: 163
},
{
cell_type: "markdown",
metadata: { },
source: [
"You can find all you need to know about dictionaries in the [documentation](https://docs.python.org/2/library/stdtypes.html#dict)."
]
},
{
cell_type: "markdown",
metadata: { },
source: [
"It is easy to iterate over the keys in a dictionary:"
]
},
{
cell_type: "code",
collapsed: false,
input: [
"d = {'person': 2, 'cat': 4, 'spider': 8} ",
"for animal in d: ",
" legs = d[animal] ",
" print 'A %s has %d legs' % (animal, legs)"
],
language: "python",
metadata: { },
outputs: [
{
output_type: "stream",
stream: "stdout",
text: [
"A person has 2 legs ",
"A spider has 8 legs ",
"A cat has 4 legs "
]
}
],
prompt_number: 164
},
{
cell_type: "markdown",
metadata: { },
source: [
"If you want access to keys and their corresponding values, use the iteritems method:"
]
},
{
cell_type: "code",
collapsed: false,
input: [
"d = {'person': 2, 'cat': 4, 'spider': 8} ",
"for animal, legs in d.iteritems(): ",
" print 'A %s has %d legs' % (animal, legs)"
],
language: "python",
metadata: { },
outputs: [
{
output_type: "stream",
stream: "stdout",
text: [
"A person has 2 legs ",
"A spider has 8 legs ",
"A cat has 4 legs "
]
}
],
prompt_number: 165
},
{
cell_type: "markdown",
metadata: { },
source: [
"Dictionary comprehensions: These are similar to list comprehensions, but allow you to easily construct dictionaries. For example:"
]
},
{
cell_type: "code",
collapsed: false,
input: [
"nums = [0, 1, 2, 3, 4] ",
"even_num_to_square = {x: x ** 2 for x in nums if x % 2 == 0} ",
"print even_num_to_square"
],
language: "python",
metadata: { },
outputs: [
{
output_type: "stream",
stream: "stdout",
text: [
"{0: 0, 2: 4, 4: 16} "
]
}
],
prompt_number: 166
},
{
cell_type: "heading",
level: 4,
metadata: { },
source: [
"Sets"
]
},
{
cell_type: "markdown",
metadata: { },
source: [
"A set is an unordered collection of distinct elements. As a simple example, consider the following:"
]
},
{
cell_type: "code",
collapsed: false,
input: [
"animals = {'cat', 'dog'} ",
"print 'cat' in animals # Check if an element is in a set; prints "True" ",
"print 'fish' in animals # prints "False" "
],
language: "python",
metadata: { },
outputs: [
{
output_type: "stream",
stream: "stdout",
text: [
"True ",
"False "
]
}
],
prompt_number: 167
},
{
cell_type: "code",
collapsed: false,
input: [
"animals.add('fish') # Add an element to a set ",
"print 'fish' in animals ",
"print len(animals) # Number of elements in a set;"
],
language: "python",
metadata: { },
outputs: [
{
output_type: "stream",
stream: "stdout",
text: [
"True ",
"3 "
]
}
],
prompt_number: 170
},
{
cell_type: "code",
collapsed: false,
input: [
"animals.add('cat') # Adding an element that is already in the set does nothing ",
"print len(animals) ",
"animals.remove('cat') # Remove an element from a set ",
"print len(animals) "
],
language: "python",
metadata: { },
outputs: [
{
output_type: "stream",
stream: "stdout",
text: [
"3 ",
"2 "
]
}
],
prompt_number: 171
},
{
cell_type: "markdown",
metadata: { },
source: [
"_Loops_: Iterating over a set has the same syntax as iterating over a list; however since sets are unordered, you cannot make assumptions about the order in which you visit the elements of the set:"
]
},
{
cell_type: "code",
collapsed: false,
input: [
"animals = {'cat', 'dog', 'fish'} ",
"for idx, animal in enumerate(animals): ",
" print '#%d: %s' % (idx + 1, animal) ",
"# Prints "#1: fish", "#2: dog", "#3: cat""
],
language: "python",
metadata: { },
outputs: [
{
output_type: "stream",
stream: "stdout",
text: [
"#1: fish ",
"#2: dog ",
"#3: cat "
]
}
],
prompt_number: 63
},
{
cell_type: "markdown",
metadata: { },
source: [
"Set comprehensions: Like lists and dictionaries, we can easily construct sets using set comprehensions:"
]
},
{
cell_type: "code",
collapsed: false,
input: [
"from math import sqrt ",
"print {int(sqrt(x)) for x in range(30)}"
],
language: "python",
metadata: { },
outputs: [
{
output_type: "stream",
stream: "stdout",
text: [
"set([0, 1, 2, 3, 4, 5]) "
]
}
],
prompt_number: 172
},
{
cell_type: "heading",
level: 4,
metadata: { },
source: [
"Tuples"
]
},
{
cell_type: "markdown",
metadata: { },
source: [
"A tuple is an (immutable) ordered list of values. A tuple is in many ways similar to a list; one of the most important differences is that tuples can be used as keys in dictionaries and as elements of sets, while lists cannot. Here is a trivial example:"
]
},
{
cell_type: "code",
collapsed: false,
input: [
"d = {(x, x + 1): x for x in range(10)} # Create a dictionary with tuple keys ",
"t = (5, 6) # Create a tuple ",
"print type(t) ",
"print d[t] ",
"print d[(1, 2)]"
],
language: "python",
metadata: { },
outputs: [
{
output_type: "stream",
stream: "stdout",
text: [
"<type 'tuple'> ",
"5 ",
"1 "
]
}
],
prompt_number: 173
},
{
cell_type: "code",
collapsed: false,
input: [
"t[0] = 1"
],
language: "python",
metadata: { },
outputs: [
{
ename: "TypeError",
evalue: "'tuple' object does not support item assignment",
output_type: "pyerr",
traceback: [
"[0;31m---------------------------------------------------------------------------[0m [0;31mTypeError[0m Traceback (most recent call last)",
"[0;32m<ipython-input-176-0a69537257d5>[0m in [0;36m<module>[0;34m()[0m [0;32m----> 1[0;31m [0mt[0m[0;34m[[0m[0;36m0[0m[0;34m][0m [0;34m=[0m [0;36m1[0m[0;34m[0m[0m [0m",
"[0;31mTypeError[0m: 'tuple' object does not support item assignment"
]
}
],
prompt_number: 176
},
{
cell_type: "heading",
level: 3,
metadata: { },
source: [
"Functions"
]
},
{
cell_type: "markdown",
metadata: { },
source: [
"Python functions are defined using the `def` keyword. For example:"
]
},
{
cell_type: "code",
collapsed: false,
input: [
"def sign(x): ",
" if x > 0: ",
" return 'positive' ",
" elif x < 0: ",
" return 'negative' ",
" else: ",
" return 'zero' ",
" ",
"for x in [-1, 0, 1]: ",
" print sign(x)"
],
language: "python",
metadata: { },
outputs: [
{
output_type: "stream",
stream: "stdout",
text: [
"negative ",
"zero ",
"positive "
]
}
],
prompt_number: 178
},
{
cell_type: "markdown",
metadata: { },
source: [
"We will often define functions to take optional keyword arguments, like this:"
]
},
{
cell_type: "code",
collapsed: false,
input: [
"def hello(name, loud=False): ",
" if loud: ",
" print 'HELLO, %s' % name.upper() ",
" else: ",
" print 'Hello, %s!' % name ",
" ",
"hello('Bob') ",
"hello('Fred', loud=True)"
],
language: "python",
metadata: { },
outputs: [
{
output_type: "stream",
stream: "stdout",
text: [
"Hello, Bob! ",
"HELLO, FRED "
]
}
],
prompt_number: 179
},
{
cell_type: "heading",
level: 3,
metadata: { },
source: [
"Classes"
]
},
{
cell_type: "markdown",
metadata: { },
source: [
"The syntax for defining classes in Python is straightforward:"
]
},
{
cell_type: "code",
collapsed: false,
input: [
"class Greeter: ",
" ",
" # Constructor ",
" def __init__(self, name): ",
" self.name = name # Create an instance variable ",
" ",
" # Instance method ",
" def greet(self, loud=False): ",
" if loud: ",
" print 'HELLO, %s!' % self.name.upper() ",
" else: ",
" print 'Hello, %s' % self.name ",
" ",
"g = Greeter('Fred') # Construct an instance of the Greeter class ",
"g.greet() # Call an instance method; prints "Hello, Fred" ",
"g.greet(loud=True) # Call an instance method; prints "HELLO, FRED!""
],
language: "python",
metadata: { },
outputs: [
{
output_type: "stream",
stream: "stdout",
text: [
"Hello, Fred ",
"HELLO, FRED! "
]
}
],
prompt_number: 76
},
{
cell_type: "heading",
level: 2,
metadata: { },
source: [
"Numpy"
]
},
{
cell_type: "markdown",
metadata: { },
source: [
"Numpy is the core library for scientific computing in Python. It provides a high-performance multidimensional array object, and tools for working with these arrays. If you are already familiar with MATLAB, you might find this [tutorial](http://wiki.scipy.org/NumPy_for_Matlab_Users) useful to get started with Numpy."
]
},
{
cell_type: "markdown",
metadata: { },
source: [
"To use Numpy, we first need to import the `numpy` package:"
]
},
{
cell_type: "code",
collapsed: false,
input: [
"import numpy as np"
],
language: "python",
metadata: { },
outputs: [ ],
prompt_number: 181
},
{
cell_type: "heading",
level: 3,
metadata: { },
source: [
"Arrays"
]
},
{
cell_type: "markdown",
metadata: { },
source: [
"A numpy array is a grid of values, all of the same type, and is indexed by a tuple of nonnegative integers. The number of dimensions is the rank of the array; the shape of an array is a tuple of integers giving the size of the array along each dimension."
]
},
{
cell_type: "markdown",
metadata: { },
source: [
"We can initialize numpy arrays from nested Python lists, and access elements using square brackets:"
]
},
{
cell_type: "code",
collapsed: false,
input: [
"a = np.array([1, 2, 3]) # Create a rank 1 array ",
"print type(a), a.shape, a[0], a[1], a[2] ",
"a[0] = 5 # Change an element of the array ",
"print a "
],
language: "python",
metadata: { },
outputs: [
{
output_type: "stream",
stream: "stdout",
text: [
"<type 'numpy.ndarray'> (3,) 1 2 3 ",
"[5 2 3] "
]
}
],
prompt_number: 196
},
{
cell_type: "code",
collapsed: false,
input: [
"b = np.array([[1,2,3],[4,5,6]]) # Create a rank 2 array ",
"print b"
],
language: "python",
metadata: { },
outputs: [
{
output_type: "stream",
stream: "stdout",
text: [
"[[1 2 3] ",
" [4 5 6]] "
]
}
],
prompt_number: 198
},
{
cell_type: "code",
collapsed: false,
input: [
"print b.shape ",
"print b[0, 0], b[0, 1], b[1, 0]"
],
language: "python",
metadata: { },
outputs: [
{
output_type: "stream",
stream: "stdout",
text: [
"(2, 3) ",
"1 2 4 "
]
}
],
prompt_number: 199
},
{
cell_type: "markdown",
metadata: { },
source: [
"Numpy also provides many functions to create arrays:"
]
},
{
cell_type: "code",
collapsed: false,
input: [
"a = np.zeros((2,2)) # Create an array of all zeros ",
"print a"
],
language: "python",
metadata: { },
outputs: [
{
output_type: "stream",
stream: "stdout",
text: [
"[[ 0. 0.] ",
" [ 0. 0.]] "
]
}
],
prompt_number: 186
},
{
cell_type: "code",
collapsed: false,
input: [
"b = np.ones((1,2)) # Create an array of all ones ",
"print b"
],
language: "python",
metadata: { },
outputs: [
{
output_type: "stream",
stream: "stdout",
text: [
"[[ 1. 1.]] "
]
}
],
prompt_number: 187
},
{
cell_type: "code",
collapsed: false,
input: [
"c = np.full((2,2), 7) # Create a constant array ",
"print c "
],
language: "python",
metadata: { },
outputs: [
{
output_type: "stream",
stream: "stdout",
text: [
"[[ 7. 7.] ",
" [ 7. 7.]] "
]
}
],
prompt_number: 188
},
{
cell_type: "code",
collapsed: false,
input: [
"d = np.eye(2) # Create a 2x2 identity matrix ",
"print d"
],
language: "python",
metadata: { },
outputs: [
{
output_type: "stream",
stream: "stdout",
text: [
"[[ 1. 0.] ",
" [ 0. 1.]] "
]
}
],
prompt_number: 190
},
{
cell_type: "code",
collapsed: false,
input: [
"e = np.random.random((2,2)) # Create an array filled with random values ",
"print e"
],
language: "python",
metadata: { },
outputs: [
{
output_type: "stream",
stream: "stdout",
text: [
"[[ 0.09477679 0.79267634] ",
" [ 0.78291274 0.38962829]] "
]
}
],
prompt_number: 192
},
{
cell_type: "heading",
level: 3,
metadata: { },
source: [
"Array indexing"
]
},
{
cell_type: "markdown",
metadata: { },
source: [
"Numpy offers several ways to index into arrays."
]
},
{
cell_type: "markdown",
metadata: { },
source: [
"Slicing: Similar to Python lists, numpy arrays can be sliced. Since arrays may be multidimensional, you must specify a slice for each dimension of the array:"
]
},
{
cell_type: "code",
collapsed: false,
input: [
"import numpy as np ",
" ",
"# Create the following rank 2 array with shape (3, 4) ",
"# [[ 1 2 3 4] ",
"# [ 5 6 7 8] ",
"# [ 9 10 11 12]] ",
"a = np.array([[1,2,3,4], [5,6,7,8], [9,10,11,12]]) ",
" ",
"# Use slicing to pull out the subarray consisting of the first 2 rows ",
"# and columns 1 and 2; b is the following array of shape (2, 2): ",
"# [[2 3] ",
"# [6 7]] ",
"b = a[:2, 1:3] ",
"print b"
],
language: "python",
metadata: { },
outputs: [
{
output_type: "stream",
stream: "stdout",
text: [
"[[2 3] ",
" [6 7]] "
]
}
],
prompt_number: 203
},
{
cell_type: "markdown",
metadata: { },
source: [
"A slice of an array is a view into the same data, so modifying it will modify the original array."
]
},
{
cell_type: "code",
collapsed: false,
input: [
"print a[0, 1] ",
"b[0, 0] = 77 # b[0, 0] is the same piece of data as a[0, 1] ",
"print a[0, 1] "
],
language: "python",
metadata: { },
outputs: [
{
output_type: "stream",
stream: "stdout",
text: [
"2 ",
"77 "
]
}
],
prompt_number: 202
},
{
cell_type: "markdown",
metadata: { },
source: [
"You can also mix integer indexing with slice indexing. However, doing so will yield an array of lower rank than the original array. Note that this is quite different from the way that MATLAB handles array slicing:"
]
},
{
cell_type: "code",
collapsed: false,
input: [
"# Create the following rank 2 array with shape (3, 4) ",
"a = np.array([[1,2,3,4], [5,6,7,8], [9,10,11,12]]) ",
"print a"
],
language: "python",
metadata: { },
outputs: [
{
output_type: "stream",
stream: "stdout",
text: [
"[[ 1 2 3 4] ",
" [ 5 6 7 8] ",
" [ 9 10 11 12]] "
]
}
],
prompt_number: 209
},
{
cell_type: "markdown",
metadata: { },
source: [
"Two ways of accessing the data in the middle row of the array. ",
"Mixing integer indexing with slices yields an array of lower rank, ",
"while using only slices yields an array of the same rank as the ",
"original array:"
]
},
{
cell_type: "code",
collapsed: false,
input: [
"row_r1 = a[1, :] # Rank 1 view of the second row of a ",
"row_r2 = a[1:2, :] # Rank 2 view of the second row of a ",
"row_r3 = a[[1], :] # Rank 2 view of the second row of a ",
"print row_r1, row_r1.shape ",
"print row_r2, row_r2.shape ",
"print row_r3, row_r3.shape"
],
language: "python",
metadata: { },
outputs: [
{
output_type: "stream",
stream: "stdout",
text: [
"[ 4 5 26] (3,) ",
"[[ 4 5 26]] (1, 3) ",
"[[ 4 5 26]] (1, 3) "
]
}
],
prompt_number: 219
},
{
cell_type: "code",
collapsed: false,
input: [
"# We can make the same distinction when accessing columns of an array: ",
"col_r1 = a[:, 1] ",
"col_r2 = a[:, 1:2] ",
"print col_r1, col_r1.shape ",
"print ",
"print col_r2, col_r2.shape"
],
language: "python",
metadata: { },
outputs: [
{
output_type: "stream",
stream: "stdout",
text: [
"[ 2 6 10] (3,) ",
" ",
"[[ 2] ",
" [ 6] ",
" [10]] (3, 1) "
]
}
],
prompt_number: 212
},
{
cell_type: "markdown",
metadata: { },
source: [
"Integer array indexing: When you index into numpy arrays using slicing, the resulting array view will always be a subarray of the original array. In contrast, integer array indexing allows you to construct arbitrary arrays using the data from another array. Here is an example:"
]
},
{
cell_type: "code",
collapsed: false,
input: [
"a = np.array([[1,2], [3, 4], [5, 6]]) ",
" ",
"# An example of integer array indexing. ",
"# The returned array will have shape (3,) and ",
"print a[[0, 1, 2], [0, 1, 0]] ",
" ",
"# The above example of integer array indexing is equivalent to this: ",
"print np.array([a[0, 0], a[1, 1], a[2, 0]])"
],
language: "python",
metadata: { },
outputs: [
{
output_type: "stream",
stream: "stdout",
text: [
"[1 4 5] ",
"[1 4 5] "
]
}
],
prompt_number: 220
},
{
cell_type: "code",
collapsed: false,
input: [
"# When using integer array indexing, you can reuse the same ",
"# element from the source array: ",
"print a[[0, 0], [1, 1]] ",
" ",
"# Equivalent to the previous integer array indexing example ",
"print np.array([a[0, 1], a[0, 1]])"
],
language: "python",
metadata: { },
outputs: [
{
output_type: "stream",
stream: "stdout",
text: [
"[2 2] ",
"[2 2] "
]
}
],
prompt_number: 221
},
{
cell_type: "markdown",
metadata: { },
source: [
"One useful trick with integer array indexing is selecting or mutating one element from each row of a matrix:"
]
},
{
cell_type: "code",
collapsed: false,
input: [
"# Create a new array from which we will select elements ",
"a = np.array([[1,2,3], [4,5,6], [7,8,9], [10, 11, 12]]) ",
"print a"
],
language: "python",
metadata: { },
outputs: [
{
output_type: "stream",
stream: "stdout",
text: [
"[[ 1 2 3] ",
" [ 4 5 6] ",
" [ 7 8 9] ",
" [10 11 12]] "
]
}
],
prompt_number: 215
},
{
cell_type: "code",
collapsed: false,
input: [
"# Create an array of indices ",
"b = np.array([0, 2, 0, 1]) ",
" ",
"# Select one element from each row of a using the indices in b ",
"print a[np.arange(4), b] # Prints "[ 1 6 7 11]""
],
language: "python",
metadata: { },
outputs: [
{
output_type: "stream",
stream: "stdout",
text: [
"[ 1 6 7 11] "
]
}
],
prompt_number: 216
},
{
cell_type: "code",
collapsed: false,
input: [
"# Mutate one element from each row of a using the indices in b ",
"a[np.arange(4), b] += 10 ",
"print a"
],
language: "python",
metadata: { },
outputs: [
{
output_type: "stream",
stream: "stdout",
text: [
"[[11 2 3] ",
" [ 4 5 16] ",
" [17 8 9] ",
" [10 21 12]] "
]
}
],
prompt_number: 218
},
{
cell_type: "markdown",
metadata: { },
source: [
"Boolean array indexing: Boolean array indexing lets you pick out arbitrary elements of an array. Frequently this type of indexing is used to select the elements of an array that satisfy some condition. Here is an example:"
]
},
{
cell_type: "code",
collapsed: false,
input: [
"import numpy as np ",
" ",
"a = np.array([[1,2], [3, 4], [5, 6]]) ",
" ",
"bool_idx = (a > 2) # Find the elements of a that are bigger than 2; ",
" # this returns a numpy array of Booleans of the same ",
" # shape as a, where each slot of bool_idx tells ",
" # whether that element of a is > 2. ",
" ",
"print bool_idx"
],
language: "python",
metadata: { },
outputs: [
{
output_type: "stream",
stream: "stdout",
text: [
"[[False False] ",
" [ True True] ",
" [ True True]] "
]
}
],
prompt_number: 223
},
{
cell_type: "code",
collapsed: false,
input: [
"# We use boolean array indexing to construct a rank 1 array ",
"# consisting of the elements of a corresponding to the True values ",
"# of bool_idx ",
"print a[bool_idx] ",
" ",
"# We can do all of the above in a single concise statement: ",
"print a[a > 2]"
],
language: "python",
metadata: { },
outputs: [
{
output_type: "stream",
stream: "stdout",
text: [
"[3 4 5 6] ",
"[3 4 5 6] "
]
}
],
prompt_number: 225
},
{
cell_type: "markdown",
metadata: { },
source: [
"For brevity we have left out a lot of details about numpy array indexing; if you want to know more you should read the documentation."
]
},
{
cell_type: "heading",
level: 3,
metadata: { },
source: [
"Datatypes"
]
},
{
cell_type: "markdown",
metadata: { },
source: [
"Every numpy array is a grid of elements of the same type. Numpy provides a large set of numeric datatypes that you can use to construct arrays. Numpy tries to guess a datatype when you create an array, but functions that construct arrays usually also include an optional argument to explicitly specify the datatype. Here is an example:"
]
},
{
cell_type: "code",
collapsed: false,
input: [
"x = np.array([1, 2]) # Let numpy choose the datatype ",
"y = np.array([1.0, 2.0]) # Let numpy choose the datatype ",
"z = np.array([1, 2], dtype=np.int64) # Force a particular datatype ",
" ",
"print x.dtype, y.dtype, z.dtype"
],
language: "python",
metadata: { },
outputs: [
{
output_type: "stream",
stream: "stdout",
text: [
"int64 float64 int64 "
]
}
],
prompt_number: 226
},
{
cell_type: "markdown",
metadata: { },
source: [
"You can read all about numpy datatypes in the [documentation](http://docs.scipy.org/doc/numpy/reference/arrays.dtypes.html)."
]
},
{
cell_type: "heading",
level: 3,
metadata: { },
source: [
"Array math"
]
},
{
cell_type: "markdown",
metadata: { },
source: [
"Basic mathematical functions operate elementwise on arrays, and are available both as operator overloads and as functions in the numpy module:"
]
},
{
cell_type: "code",
collapsed: false,
input: [
"x = np.array([[1,2],[3,4]], dtype=np.float64) ",
"y = np.array([[5,6],[7,8]], dtype=np.float64) ",
" ",
"# Elementwise sum; both produce the array ",
"print x + y ",
"print np.add(x, y)"
],
language: "python",
metadata: { },
outputs: [
{
output_type: "stream",
stream: "stdout",
text: [
"[[ 6. 8.] ",
" [ 10. 12.]] ",
"[[ 6. 8.] ",
" [ 10. 12.]] "
]
}
],
prompt_number: 227
},
{
cell_type: "code",
collapsed: false,
input: [
"# Elementwise difference; both produce the array ",
"print x - y ",
"print np.subtract(x, y)"
],
language: "python",
metadata: { },
outputs: [
{
output_type: "stream",
stream: "stdout",
text: [
"[[-4. -4.] ",
" [-4. -4.]] ",
"[[-4. -4.] ",
" [-4. -4.]] "
]
}
],
prompt_number: 228
},
{
cell_type: "code",
collapsed: false,
input: [
"# Elementwise product; both produce the array ",
"print x * y ",
"print np.multiply(x, y)"
],
language: "python",
metadata: { },
outputs: [
{
output_type: "stream",
stream: "stdout",
text: [
"[[ 5. 12.] ",
" [ 21. 32.]] ",
"[[ 5. 12.] ",
" [ 21. 32.]] "
]
}
],
prompt_number: 229
},
{
cell_type: "code",
collapsed: false,
input: [
"# Elementwise division; both produce the array ",
"# [[ 0.2 0.33333333] ",
"# [ 0.42857143 0.5 ]] ",
"print x / y ",
"print np.divide(x, y)"
],
language: "python",
metadata: { },
outputs: [
{
output_type: "stream",
stream: "stdout",
text: [
"[[ 0.2 0.33333333] ",
" [ 0.42857143 0.5 ]] ",
"[[ 0.2 0.33333333] ",
" [ 0.42857143 0.5 ]] "
]
}
],
prompt_number: 230
},
{
cell_type: "code",
collapsed: false,
input: [
"# Elementwise square root; produces the array ",
"# [[ 1. 1.41421356] ",
"# [ 1.73205081 2. ]] ",
"print np.sqrt(x)"
],
language: "python",
metadata: { },
outputs: [
{
output_type: "stream",
stream: "stdout",
text: [
"[[ 1. 1.41421356] ",
" [ 1.73205081 2. ]] "
]
}
],
prompt_number: 231
},
{
cell_type: "markdown",
metadata: { },
source: [
"Note that unlike MATLAB, `*` is elementwise multiplication, not matrix multiplication. We instead use the dot function to compute inner products of vectors, to multiply a vector by a matrix, and to multiply matrices. dot is available both as a function in the numpy module and as an instance method of array objects:"
]
},
{
cell_type: "code",
collapsed: false,
input: [
"x = np.array([[1,2],[3,4]]) ",
"y = np.array([[5,6],[7,8]]) ",
" ",
"v = np.array([9,10]) ",
"w = np.array([11, 12]) ",
" ",
"# Inner product of vectors; both produce 219 ",
"print v.dot(w) ",
"print np.dot(v, w)"
],
language: "python",
metadata: { },
outputs: [
{
output_type: "stream",
stream: "stdout",
text: [
"219 ",
"219 "
]
}
],
prompt_number: 232
},
{
cell_type: "code",
collapsed: false,
input: [
"# Matrix / vector product; both produce the rank 1 array [29 67] ",
"print x.dot(v) ",
"print np.dot(x, v)"
],
language: "python",
metadata: { },
outputs: [
{
output_type: "stream",
stream: "stdout",
text: [
"[29 67] ",
"[29 67] "
]
}
],
prompt_number: 233
},
{
cell_type: "code",
collapsed: false,
input: [
"# Matrix / matrix product; both produce the rank 2 array ",
"# [[19 22] ",
"# [43 50]] ",
"print x.dot(y) ",
"print np.dot(x, y)"
],
language: "python",
metadata: { },
outputs: [
{
output_type: "stream",
stream: "stdout",
text: [
"[[19 22] ",
" [43 50]] ",
"[[19 22] ",
" [43 50]] "
]
}
],
prompt_number: 234
},
{
cell_type: "markdown",
metadata: { },
source: [
"Numpy provides many useful functions for performing computations on arrays; one of the most useful is `sum`:"
]
},
{
cell_type: "code",
collapsed: false,
input: [
"x = np.array([[1,2],[3,4]]) ",
" ",
"print np.sum(x) # Compute sum of all elements; prints "10" ",
"print np.sum(x, axis=0) # Compute sum of each column; prints "[4 6]" ",
"print np.sum(x, axis=1) # Compute sum of each row; prints "[3 7]""
],
language: "python",
metadata: { },
outputs: [
{
output_type: "stream",
stream: "stdout",
text: [
"10 ",
"[4 6] ",
"[3 7] "
]
}
],
prompt_number: 235
},
{
cell_type: "markdown",
metadata: { },
source: [
"You can find the full list of mathematical functions provided by numpy in the [documentation](http://docs.scipy.org/doc/numpy/reference/routines.math.html). ",
" ",
"Apart from computing mathematical functions using arrays, we frequently need to reshape or otherwise manipulate data in arrays. The simplest example of this type of operation is transposing a matrix; to transpose a matrix, simply use the T attribute of an array object:"
]
},
{
cell_type: "code",
collapsed: false,
input: [
"print x ",
"print x.T"
],
language: "python",
metadata: { },
outputs: [
{
output_type: "stream",
stream: "stdout",
text: [
"[[1 2] ",
" [3 4]] ",
"[[1 3] ",
" [2 4]] "
]
}
],
prompt_number: 236
},
{
cell_type: "code",
collapsed: false,
input: [
"v = np.array([[1,2,3]]) ",
"print v ",
"print v.T"
],
language: "python",
metadata: { },
outputs: [
{
output_type: "stream",
stream: "stdout",
text: [
"[1 2 3] ",
"[1 2 3] "
]
}
],
prompt_number: 237
},
{
cell_type: "heading",
level: 3,
metadata: { },
source: [
"Broadcasting"
]
},
{
cell_type: "markdown",
metadata: { },
source: [
"Broadcasting is a powerful mechanism that allows numpy to work with arrays of different shapes when performing arithmetic operations. Frequently we have a smaller array and a larger array, and we want to use the smaller array multiple times to perform some operation on the larger array. ",
" ",
"For example, suppose that we want to add a constant vector to each row of a matrix. We could do it like this:"
]
},
{
cell_type: "code",
collapsed: false,
input: [
"# We will add the vector v to each row of the matrix x, ",
"# storing the result in the matrix y ",
"x = np.array([[1,2,3], [4,5,6], [7,8,9], [10, 11, 12]]) ",
"v = np.array([1, 0, 1]) ",
"y = np.empty_like(x) # Create an empty matrix with the same shape as x ",
" ",
"# Add the vector v to each row of the matrix x with an explicit loop ",
"for i in range(4): ",
" y[i, :] = x[i, :] + v ",
" ",
"print y"
],
language: "python",
metadata: { },
outputs: [
{
output_type: "stream",
stream: "stdout",
text: [
"[[ 2 2 4] ",
" [ 5 5 7] ",
" [ 8 8 10] ",
" [11 11 13]] "
]
}
],
prompt_number: 238
},
{
cell_type: "markdown",
metadata: { },
source: [
"This works; however when the matrix `x` is very large, computing an explicit loop in Python could be slow. Note that adding the vector v to each row of the matrix `x` is equivalent to forming a matrix `vv` by stacking multiple copies of `v` vertically, then performing elementwise summation of `x` and `vv`. We could implement this approach like this:"
]
},
{
cell_type: "code",
collapsed: false,
input: [
"vv = np.tile(v, (4, 1)) # Stack 4 copies of v on top of each other ",
"print vv # Prints "[[1 0 1] ",
" # [1 0 1] ",
" # [1 0 1] ",
" # [1 0 1]]""
],
language: "python",
metadata: { },
outputs: [
{
output_type: "stream",
stream: "stdout",
text: [
"[[1 0 1] ",
" [1 0 1] ",
" [1 0 1] ",
" [1 0 1]] "
]
}
],
prompt_number: 240
},
{
cell_type: "code",
collapsed: false,
input: [
"y = x + vv # Add x and vv elementwise ",
"print y"
],
language: "python",
metadata: { },
outputs: [
{
output_type: "stream",
stream: "stdout",
text: [
"[[ 2 2 4] ",
" [ 5 5 7] ",
" [ 8 8 10] ",
" [11 11 13]] "
]
}
],
prompt_number: 241
},
{
cell_type: "markdown",
metadata: { },
source: [
"Numpy broadcasting allows us to perform this computation without actually creating multiple copies of v. Consider this version, using broadcasting:"
]
},
{
cell_type: "code",
collapsed: false,
input: [
"import numpy as np ",
" ",
"# We will add the vector v to each row of the matrix x, ",
"# storing the result in the matrix y ",
"x = np.array([[1,2,3], [4,5,6], [7,8,9], [10, 11, 12]]) ",
"v = np.array([1, 0, 1]) ",
"y = x + v # Add v to each row of x using broadcasting ",
"print y"
],
language: "python",
metadata: { },
outputs: [
{
output_type: "stream",
stream: "stdout",
text: [
"[[ 2 2 4] ",
" [ 5 5 7] ",
" [ 8 8 10] ",
" [11 11 13]] "
]
}
],
prompt_number: 242
},
{
cell_type: "markdown",
metadata: { },
source: [
"The line `y = x + v` works even though `x` has shape `(4, 3)` and `v` has shape `(3,)` due to broadcasting; this line works as if v actually had shape `(4, 3)`, where each row was a copy of `v`, and the sum was performed elementwise. ",
" ",
"Broadcasting two arrays together follows these rules: ",
" ",
"1. If the arrays do not have the same rank, prepend the shape of the lower rank array with 1s until both shapes have the same length. ",
"2. The two arrays are said to be compatible in a dimension if they have the same size in the dimension, or if one of the arrays has size 1 in that dimension. ",
"3. The arrays can be broadcast together if they are compatible in all dimensions. ",
"4. After broadcasting, each array behaves as if it had shape equal to the elementwise maximum of shapes of the two input arrays. ",
"5. In any dimension where one array had size 1 and the other array had size greater than 1, the first array behaves as if it were copied along that dimension ",
" ",
"If this explanation does not make sense, try reading the explanation from the [documentation](http://docs.scipy.org/doc/numpy/user/basics.broadcasting.html) or this [explanation](http://wiki.scipy.org/EricsBroadcastingDoc). ",
" ",
"Functions that support broadcasting are known as universal functions. You can find the list of all universal functions in the [documentation](http://docs.scipy.org/doc/numpy/reference/ufuncs.html#available-ufuncs). ",
" ",
"Here are some applications of broadcasting:"
]
},
{
cell_type: "code",
collapsed: false,
input: [
"# Compute outer product of vectors ",
"v = np.array([1,2,3]) # v has shape (3,) ",
"w = np.array([4,5]) # w has shape (2,) ",
"# To compute an outer product, we first reshape v to be a column ",
"# vector of shape (3, 1); we can then broadcast it against w to yield ",
"# an output of shape (3, 2), which is the outer product of v and w: ",
" ",
"print np.reshape(v, (3, 1)) * w"
],
language: "python",
metadata: { },
outputs: [
{
output_type: "stream",
stream: "stdout",
text: [
"[[ 4 5] ",
" [ 8 10] ",
" [12 15]] "
]
}
],
prompt_number: 243
},
{
cell_type: "code",
collapsed: false,
input: [
"# Add a vector to each row of a matrix ",
"x = np.array([[1,2,3], [4,5,6]]) ",
"# x has shape (2, 3) and v has shape (3,) so they broadcast to (2, 3), ",
"# giving the following matrix: ",
" ",
"print x + v"
],
language: "python",
metadata: { },
outputs: [
{
output_type: "stream",
stream: "stdout",
text: [
"[[2 4 6] ",
" [5 7 9]] "
]
}
],
prompt_number: 244
},
{
cell_type: "code",
collapsed: false,
input: [
"# Add a vector to each column of a matrix ",
"# x has shape (2, 3) and w has shape (2,). ",
"# If we transpose x then it has shape (3, 2) and can be broadcast ",
"# against w to yield a result of shape (3, 2); transposing this result ",
"# yields the final result of shape (2, 3) which is the matrix x with ",
"# the vector w added to each column. Gives the following matrix: ",
" ",
"print (x.T + w).T"
],
language: "python",
metadata: { },
outputs: [
{
output_type: "stream",
stream: "stdout",
text: [
"[[ 5 6 7] ",
" [ 9 10 11]] "
]
}
],
prompt_number: 245
},
{
cell_type: "code",
collapsed: false,
input: [
"# Another solution is to reshape w to be a row vector of shape (2, 1); ",
"# we can then broadcast it directly against x to produce the same ",
"# output. ",
"print x + np.reshape(w, (2, 1))"
],
language: "python",
metadata: { },
outputs: [
{
output_type: "stream",
stream: "stdout",
text: [
"[[ 5 6 7] ",
" [ 9 10 11]] "
]
}
],
prompt_number: 246
},
{
cell_type: "code",
collapsed: false,
input: [
"# Multiply a matrix by a constant: ",
"# x has shape (2, 3). Numpy treats scalars as arrays of shape (); ",
"# these can be broadcast together to shape (2, 3), producing the ",
"# following array: ",
"print x * 2"
],
language: "python",
metadata: { },
outputs: [
{
output_type: "stream",
stream: "stdout",
text: [
"[[ 2 4 6] ",
" [ 8 10 12]] "
]
}
],
prompt_number: 247
},
{
cell_type: "markdown",
metadata: { },
source: [
"Broadcasting typically makes your code more concise and faster, so you should strive to use it where possible."
]
},
{
cell_type: "markdown",
metadata: { },
source: [
"This brief overview has touched on many of the important things that you need to know about numpy, but is far from complete. Check out the [numpy reference](http://docs.scipy.org/doc/numpy/reference/) to find out much more about numpy."
]
},
{
cell_type: "heading",
level: 2,
metadata: { },
source: [
"Matplotlib"
]
},
{
cell_type: "markdown",
metadata: { },
source: [
"Matplotlib is a plotting library. In this section give a brief introduction to the `matplotlib.pyplot` module, which provides a plotting system similar to that of MATLAB."
]
},
{
cell_type: "code",
collapsed: false,
input: [
"import matplotlib.pyplot as plt"
],
language: "python",
metadata: { },
outputs: [ ],
prompt_number: 250
},
{
cell_type: "markdown",
metadata: { },
source: [
"By running this special iPython command, we will be displaying plots inline:"
]
},
{
cell_type: "code",
collapsed: false,
input: [
"%matplotlib inline"
],
language: "python",
metadata: { },
outputs: [ ],
prompt_number: 251
},
{
cell_type: "heading",
level: 3,
metadata: { },
source: [
"Plotting"
]
},
{
cell_type: "markdown",
metadata: { },
source: [
"The most important function in `matplotlib` is plot, which allows you to plot 2D data. Here is a simple example:"
]
},
{
cell_type: "code",
collapsed: false,
input: [
"# Compute the x and y coordinates for points on a sine curve ",
"x = np.arange(0, 3 * np.pi, 0.1) ",
"y = np.sin(x) ",
" ",
"# Plot the points using matplotlib ",
"plt.plot(x, y)"
],
language: "python",
metadata: { },
outputs: [
{
metadata: { },
output_type: "pyout",
prompt_number: 252,
text: [
"[<matplotlib.lines.Line2D at 0x112d11710>]"
]
},
{
metadata: { },
output_type: "display_data",
png: "iVBORw0KGgoAAAANSUhEUgAAAX0AAAEACAYAAABfxaZOAAAABHNCSVQICAgIfAhkiAAAAAlwSFlz AAALEgAACxIB0t1+/AAAIABJREFUeJzt3XeY1dW1//H30IsNROlKADFgQxAEQRkEqdKRIpYbDSFE IpbEkl+8kvt4DWrUmJBgjBoxAQEBKUpXRxCIFAFRehtAFEGEK9Ll/P5YM6E45cwp3/0tn9fzzOMZ ODPfxfE7a/ZZe+29QUREREREREREREREREREREREREREAuBVYBewqoDn/AnYAKwErvYiKBERSY/r sUSeX9LvBEzPeXwt8G8vghIRkfSpRf5J/0Wg7ymfrwUqpzsgERH5oWIeXKM6sP2Uz3cANTy4roiI nMGLpA+QccbnMY+uKyIipyjhwTU+B2qe8nmNnD87TZ06dWKbNm3yIBwRkVDZBNSN98lejPSnAnfk PG4G7MO6fU6zadMmYrFYYD4OHIjx05/GqF07xksvxfj224Kf/8UXMe68M0b16jHGjIlx4kT+z338 8ced//v88qHXIvyvxZtvxqhcOcavfhVj27aCn3voUIxRo2KUL/84DzwQ47vv3Mfv+gOoU5SEnIqR /htAK6ASVrt/HCiZ83d/wzp3OgEbge+An6Tgmk598gn07QvXXAMrVsDZZxf+NVWqwGuvwcKFcM89 MHEi/OtfUKZM2sMV8aVvvoHBg+1naPJkaNas8K8pUwbuuANWrYKdO+GKK2DsWGjSJP3xhkUqkn7/ OJ4zJAXX8YXJk2HgQHjuObj99qJ//XXXwb//DbfdBp072/eL55eGSJjs3Qtt20LTprB8OZQtW7Sv L18eRo+2wVPnzjBpErRsmZ5Yw8aridxQmDULfvYzmDkzsYSfq3RpG51ccgnceCPs3n3632dmZiYV Z5jotTgpLK9FbsJv0wZGjix6woeTr0WvXvaOuUcPeP/91MYZVmd21bgUy6lP+dK8eXaDTZ4MLVqk 5nvGYvDYY/DWW1b2Offc1HxfEb/KTfht28JTT0FGijJQVhbccouN/tu1S833DIoMexHjfiWV9OOw dCl06gRjxtjNmmq/+AVs3w5TpkAxvfeSkDp6FFq1sjLM00+nLuHn+vBDG/HPmwf166f2e/uZkn6K 7dkDV18Nf/qT3VDpcPQo3HQTXH89PPFEeq4h4trQoZCdbe9sU53wc73yCvzhD7B4cXTmypT0UygW g65d4dJL7UZKp6++skmtZ56xt6kiYfLmm/DII7BsGZx3XnqvNXAg7N8P48al75eLnyjpp9ALL9gk 0YIFUKpU+q+3fLnVI+fPhx//OP3XE/HC+vU2DzZzJjRunP7rHT5sJaQBA+D++9N/PdeU9FNk2TLo 0MHaK+sUaelDcv7yF5s7mDcPihf37roi6XDkiPXQ33MPDBrk3XW3boVrr4UZM6BRI++u60JRk76m DfNw6BD07w8jRnib8MEWqxQrZslfJOiGD4fata3V2Uu1all30MCBcPy4t9f2O4308zBsGHz6KUyY 4Ob669bZ2+GlS+3mFQmi9ettMeLy5VCzZuHPT7VYzNYCdOkS7jKPyjtJ2rTJ3ha6ulFzPfUUzJ0L s2dHYzJKwiUWs/bmm292m3A3bIDmza1ce/HF7uJIJ5V3khCLwb33wq9/7TbhAzz4oC1kGTXKbRwi iRg92u7fX/7SbRyXXGK/dO65x36+RSP900yeDI8+CitXetOtU5glS6B7d3ubXL6862hE4rN3L1x2 mS02bNrUdTS2DqZRI/jd72xVfdiovJOggwehQQN49VXbD8cv+ve3uB57zHUkIvG5/35rmxw50nUk J737Lvz857B6NZQsWfjzg0RJP0FPPmlbvI4f7yyEPG3ebC1vq1dDZZ0sLD63bZutYPfj/dquna2q HzzYdSSppaSfgH37rPa3YAHUq+ckhAI98ICNnP76V9eRiBTs7ruhalV/bieybJl18mzYEK5yqZJ+ Av77v2HHDivt+NHXX9sK3Q8/tC0hRPxozRrbUG39+vRvtZCovn3hqqvgN79xHUnqKOkX0Z49lkiX LfN3T/zTT8OiRbZZlYgf9e5tE7cPPeQ6kvzltnCuWwfnn+86mtRQ0i+ihx6CAwf8Xzo5dMhWB8+Y YSMVET9ZssTq5evXQ7lyrqMp2ODBVt5J9yaKXlHSL4IvvrDWslWroHp1Ty+dkD/8wVbpjh3rOhKR 03XoYEnfy/11ErVzJ1x+uY32L7jAdTTJU9IvgqFDbVOz557z9LIJ+/Zb28fErxPOEk3Ll9sE6ebN /ljfEo9Bg6y76H/+x3UkyVPSj9PXX1vHzmefWbdBUAwbZpPOL7/sOhIR07+/bZn8q1+5jiR+Gzda bX/LFjjrLNfRJEdJP05PPGH/w195xbNLpsTevfbLasUK91tFiGzZYutINm+Gc85xHU3R9O0LzZoF fzM2Jf04HD5snTrvvWerXYPm17+2peUvvOA6Eom6IUPsWMLf/951JEX38cfQrZttshiUslRelPTj 8Pe/274gb7/tyeVSLncCeu1auPBC19FIVO3ebe3Oq1dDlSquo0lMu3ZWnvrJT1xHkjjtslmIEyfg 2WeDVX88U9Wq1hP90kuuI5Eo+/Of7TznoCZ8sHN7n3rK8kJURC7pv/22vR1t1cp1JMn55S9tQ6tj x1xHIlH03Xd2/z34oOtIktO6tU3kTp/uOhLvRC7pP/OMjfKDfjDJFVfYhO6kSa4jkSgaM8a6X4Le OpyRYQOoKB1PGqmkv3w5ZGeHZ0/te++1t9giXorFLEnec4/rSFKjb1/bhmXjRteReCNSSX/kSFuU UaKE60hSo2tX2L7duhBEvLJwoZV3brrJdSSpUaYM3HWX/7diSRU/FTnS2r2zf7+1aa5ZE+yJpzMN H27Lyf/xD9eRSFQMGADXXBP8/vZTbd1q/6bs7OBtu6yWzXyMGAHz58O4cWm7hBN79lhtf/36cOwj Iv62a5dt8715M1So4Dqa1OrWzQ5yHzjQdSRFo5bNPMRiVtoJ24k5AJUqQc+e2pZBvPHyyzYnFraE DzZH8Ze/hP8A9Ugk/fnzrQ836G2a+Rk82H4Yo9RrLN47fhz+9rfwTOCeqW1b28J8wQLXkaRXJJL+ yJF2KHLQ2zTz07ix9RpnZbmORMLsnXegRg07AzeMihWzAdSLL7qOJL38lAbTUtPPrUFu2eLfI9xS 4c9/tpO1xoxxHYmEVZcuVtr5r/9yHUn67NkDdevaxG5Q8oVq+md4/XU73CEo/wMTNWCArSrcu9d1 JBJGO3faGc233OI6kvSqVMlaUcN8UFGok34sZq2Md93lOpL0q1gROneG0aNdRyJh9M9/2ig/aO2M ibjrLnj1VddRpE+ok/7ixbY3TYsWriPxxt132w6iYe8+EG/FYpYEozB4Att5c+dOO0Y1jEKd9F97 zeqPYZ3APVNmpq2UXLrUdSQSJosW2c9Q8+auI/FG8eKWN8I62vdTOkzpRO6hQ9ZpELUTpp58ErZt C38Hgnjnpz+1jdUeesh1JN7ZtMl+ye3Y4f8DVjSRm2PKFGtljFLCBxuhjB9vv/REknXgAEycCLff 7joSb9WpYwcVTZ3qOpLUC23S/8c/gn0aTqKqVbMzS8N4s4r3JkyAli3t4J6oCeuEbiiT/o4dsGQJ dO/uOhI3brsN/vUv11FIGER18ATWrbRoka31CZNQJv3XX4c+faBsWdeRuNGjh209sXu360gkyLKz 4bPPbBOyKCpXzrYvD1vPfuiSfixmPcV33OE6EnfOOst+UMN2s4q33njDRrt+n8hMpwEDwveuOXRJ f8UKOHIkOu1l+bn99vDdrOKt0aMt6UXZjTdauXjdOteRpE7okv6YMXDrrdHpzc9PmzbWuhmmm1W8 88kndvBQy5auI3GrRAno1y9cK91TkfQ7AGuBDcDDefx9JrAfWJ7z8dsUXDNPJ07YW9Jbb03XFYKj RAno3z9cN6t4Z/Ro+zkqFrphYdHddpu9HmFZ6Z7s/9LiwAgs8TcA+gP183jeB8DVOR9PJHnNfM2f bxsmNWiQrisES26JJyw3q3gjd/AU9dJOrkaNoGRJ+Pe/XUeSGskm/abARmArcAwYC3TL43meFFty SztiGja0DqaFC11HIkEyf77tSnvFFa4j8YeMjJOj/TBINulXB7af8vmOnD87VQy4DlgJTMfeEaTc 0aO2crBfv3R892DKyLASj7p4pCg0gftDt95qK92PHXMdSfJKJPn18RQOPgZqAgeBjsBkoF5eTxw2 bNh/HmdmZpKZmRl3ILNmWVnnoovi/pJI6NsXbrgB/vhH20hKpCBHjtjgacUK15H4S+3adrjKnDnQ qZPbWLKysshK4pi8ZMsuzYBhWE0f4FHgBPBUAV+zBWgMnHncR1IbrvXvb2fg/vznCX+L0GrUCJ59 Flq3dh2J+N20afDMMzBvnutI/OeFF2D5ctu910+83nBtKXAJUAsoBfQFztz1pfIpATXNeZzS850O HIAZM6B371R+1/Do2xfGjXMdhQTB+PF2v8gP9e5te1odOeI6kuQkm/SPA0OAWcBqYBywBhiU8wHQ G1gFrAD+CKS86v7OO7YYq1KlVH/ncOjTx96yh6EeKelz+DC8/batwpUfql4dLr8cZs92HUlykq3p A8zI+TjV3055/Jecj7QZPz78Z3cm40c/sprke+9B+/auoxG/mjXLOr6qVHEdiX/16WP5pksX15Ek LvBLLw4cgLlzo7ujZrxU4pHCjB9vSU3y17u3vRs6fNh1JIkLfNJ/5x247jo7GFzy16ePHSxz9Kjr SMSPDh2yn6WePV1H4m9Vqti7oZkzXUeSuMAnfY1O4lOjhrW0Br0eKekxc6Z1eVWu7DoS/+vb1/JO UAU66eeWdrrltQZYfkAlHsmPBk/x69kTpk+HgwddR5KYQCd9lXaKpmdPe81U4pFTHTxoSUylnfhc eKEdSTrjzPaVgAh00tfopGiqVYP69eHdd11HIn4yY4YlsQsvdB1JcNxyC7z5pusoEhPYpK/STmJ6 9bKefZFcEyZoYWNRde9u8yBB7OIJbNJXaScxPXtaF8/x464jET84fNhG+mp5LpoLL7QunjlzXEdS dIFN+pMmaXSSiFq14OKLtbeKmLlz4cortSArET17Wh4KmkAm/cOHbfVg166uIwmmXr3sLb3IpEma wE1Ujx62QV3QtjcJZNKfM8feWl1wgetIgqlXL3jrLTshSaLr+HHbQKxHD9eRBFPNmlCnDnzwgetI iiaQSV+jk+TUq2e/MHWiVrTNm2f7Ml18setIgiuIjRGBS/rHjtlbKo1OkhPEm1VSa+JEDZ6S1bMn TJ4M33/vOpL4BS7p545OatZ0HUmw5SZ9HZoeTSdOWIlP2ygnp25d6+RZtMh1JPELXNJ/6y2NTlLh ssugTBn4+GPXkYgLH31k7c718jy4VIoiaF08gUr6uaMTJf3kZWRYb/bkya4jERc0L5Y6vXrZ6xmU d82BSvqLF8O558Kll7qOJByU9KMpFlPST6XLLoMSJWDlSteRxCdQSV83amo1awa7d8PGja4jES99 +qlNPF51letIwiFo75oDk/RjMSvtqGsndYoVs72LpkxxHYl4acoUS1IZGa4jCQ8l/TRYs8ZW4jZq 5DqScOne3X6ZSnRMnqy9dlKteXPYuRO2bHEdSeECk/SnTLFRqUYnqXXjjfZ2f9cu15GIF7Zvh61b oWVL15GES/Hiti1MEN41BybpT56sbZTToXRpaN/eFrxJ+E2dCp0728SjpFa3bsEo8QQi6e/cCevX Q6tWriMJpyDVIyU5Ku2kT9u2sHw57NnjOpKCBSLpT5sGHTtCqVKuIwmnTp1spfO337qORNJp3z5b lNWunetIwqlsWUv8b7/tOpKCBSLp59bzJT3OPdcmombOdB2JpNP06ZCZCeXLu44kvLp3939d3/dJ /9tv4cMPbaQv6dOtm+r6YafSTvp17gzvvWeHzfuV75P+zJl2LOI557iOJNy6dLGRoI5RDKcjR2D2 bLj5ZteRhFvFitC4sb+PUfR90ldpxxs1a9q+6gsWuI5E0uH99+Hyy21HSEmvbt2sS8qvfJ30jx2z 0aeORfRG167+vlklcVOnavDklS5dbDLXr3vs+zrpz59vx5FVr+46kmjIXVwSlN0CJT6xmCV9DZ68 Ubu2vaNavNh1JHnzddKfNk03qpcaNoSjR23LCwmP5cutY0e703rHz++afZv0YzEbdSrpeycjw983 qyRGo3zv+fnnyLdJf/Vqq4ldeaXrSKLFzzerJGbqVKszi3eaNIGvv/bntuW+TfrTptmNqg3WvNWq lf3C1QZs4bB9O2zbZm3P4p1ixSx/+XHti2+Tvt6SulG6tC3T9/tSconPtGm2zYY2WPOeX981+zLp f/WVjTa1wZobfu8zlvhp8OROmzawbBns3es6ktP5Mum/846NNkuXdh1JNHXsaIt5Dh1yHYkk4//+ zxbbtW/vOpJoKlcOWreGGTNcR3I6XyZ9TTy5VbEiXH217SEiwTV7NrRoAWef7TqS6OrSxX/vmn2X 9A8ftmTTqZPrSKLNjzerFI0GT+517my/fI8edR3JSb5L+u+9Z4uEzj/fdSTRlruUXKtzg+n7720L E22w5lbVqnDJJba7gF/4LulrdOIPl15qqzg//th1JJKIRYts+5KLL3YdiXTt6q/WTV8l/VjMRpdK +v7gt5tV4pe7zkXcy+3X98u7Zl8l/eXLbcZbe4T4g+r6waWk7x9XXmk7BvtlTytfJX3dqP7SogVk Z8OOHa4jkaLYtMl6w5s0cR2JgO0q4KfVuUr6kq8SJaBDB63ODZpp06xrpJivfrqjTUk/H5s32+hS /MNPN6vER4Mn/8nMhFWrYM8e15H4LOm3bw8lS7qOQk7VoQPMmwfffec6EonH/v12eMdNN7mORE5V poxtyzB9uutIUpP0OwBrgQ3Aw/k85085f78SuDq/b6TRif+cd57VhufOdR2JxGPmTLj+emu3FX/x y7vmZJN+cWAElvgbAP2B+mc8pxNQF7gE+BkwMr9v1rFjktFIWvjlZpXCqbTjX507W4fiiRNu40g2 6TcFNgJbgWPAWODM45e7AqNyHn8EnAdUzuubVaiQZDSSFl262CZ4rm9WKdjx4zbS1ypcf7rwQli/ 3v0Ee7KXrw5sP+XzHTl/VthzaiR5XfFQ3bpW5lm61HUkUpBFi6BmTfsQf3Kd8AGSPVoh3jVmZ55/ lefXDRs27D+PMzMzyczMTCgoSb3cEk/Tpq4jkfyotBMNWVlZZGVlJfz1yR5G2AwYhtX0AR4FTgBP nfKcF4EsrPQDNunbCjjzQL5YzC/rlOUH5s2DoUOtJin+VL8+vP66FmVFTYadKRt3Lk/2zcZSbIK2 FlAK6AucuXB/KnBHzuNmwD5+mPDF5667zs5a3b698OeK9zZuhH37oHFj15GI3yWb9I8DQ4BZwGpg HLAGGJTzATAd2IxN+P4N+EWS1xQHSpSw7iqtzvWnadNsAtcPNWPxt2TLO6mk8o7PjRsHo0b5Y4GJ nO7GG+G++3QebhQVtbyjpC9x27fPOkO+/FKLf/xk3z646CL7/1KunOtoxGte1/QlQnJX586Z4zoS OVXuKlwlfImHkr4UiQ5W8R8dPCRFofKOFMmmTbYT6s6dmjT0g+PHoXJlWLkSamjJYySpvCNpVacO VKwIS5a4jkQAFi60c3CV8CVeSvpSZF276hhFv5g6VR07UjRK+lJk2nXTP7T1ghSVkr4UWbNm1h6Y ne06kmhbtw4OHIBGjVxHIkGipC9FVrw4dOqk0b5ruaP8DD+1Y4jvKelLQrp0UV3fNdXzJRF+GiOo ZTNAvv0WqleHHTvgnHNcRxM9X38NtWvDrl12/qpEl1o2xRNnn207b86e7TqSaJo+3fbbUcKXolLS l4SpxOOOunYkUSrvSMK2bbPOkS+/tK2XxRtHj9p5q+vW2WpciTaVd8QzF11kHwsXuo4kWj74wE7J UsKXRCjpS1K6doUpU1xHES1Tp6q0I4lT0pekdOtmSV+VOW/EYvZ6d+vmOhIJKiV9SUrDhlZjXrvW dSTRsGIFlCoFDRq4jkSCSklfkpKRoRKPl3JH+VqFK4lS0pekaddN76i0I8ny03hBLZsBdfSodZKs XauOknTKzoZrroEvvlCLrJyklk3xXKlS0K6dHdsn6TN1KnTurIQvyVHSl5TI7eKR9FFpR1JB5R1J iW++sWP7vvgCypd3HU347NtnC+H0+sqZVN4RJypUgKZNtQFbukyfDq1aKeFL8pT0JWV69IDJk11H EU4q7UiqqLwjKbNjB1x1lW3AVrKk62jC48gRqFIF1qyx/4qcSuUdcaZGDahTB+bNcx1JuLz7Llx2 mRK+pIaSvqSUSjyp99Zb9rqKpILKO5JSa9ZYz/62bdoqIBW+/x6qVYNFi+x4RJEzqbwjTtWvbx0m S5e6jiQcFi6EqlWV8CV1lPQl5bp3V4knVSZNUmlHUktJX1KuRw+rQ0tyYjF7HXv2dB2JhImSvqRc kyawf7+d4SqJW7HC9tm5/HLXkUiYKOlLyhUrZiWeSZNcRxJsuV07mhCXVFLSl7To1QsmTnQdRbBN mqTSjqSekr6kxQ03WNvmli2uIwmmDRtg71649lrXkUjYKOlLWpQooRJPMiZMsNevmH5CJcV0S0na 9OplyUuKbsIEuOUW11FIGPlpikgrckPm2DHbL2bFCqhZ03U0wbF5MzRvDjt3QvHirqMRv9OKXPGN kiXt0HSVeIrmzTdtAlcJX9JBSV/SqndvlXiKasIEe91E0kHlHUmr3L3gV6+2PWSkYFu2WMfOzp06 AF3io/KO+Erp0tC5s7ZliFdu144SvqSLkr6kXe/eVqeWwqlrR9JN5R1Ju8OHrbSjEk/BsrPhmmus tKPjJiVeKu+I75QpY108Gu0XbMIEO/xcCV/SKZmkXxGYA6wHZgPn5fO8rcAnwHJgcRLXkwDr1w/G jnUdhb+NGwd9+riOQsIumfLO08CenP8+DFQAHsnjeVuAxsDeQr6fyjshduyYlXaWLoVatVxH4z8b N0KLFvD555rElaLxsrzTFRiV83gU0L2A5/pp7kAcKFnStmUYP951JP70xhs2gauEL+mWTNKvDOzK ebwr5/O8xIC5wFJgYBLXk4Dr189KGHK6WMyS/q23uo5EoqCwccUcoEoef/7/zvg8lvORlxbAF8AF Od9vLTA/rycOGzbsP48zMzPJzMwsJDwJkhtusM6U9euhXj3X0fjHJ5/AwYO2345IYbKyssjKykr4 65Mpu6wFMoEvgarA+8CPC/max4EDwLN5/J1q+hEwdChUqgSPPeY6Ev94JGcmbPhwt3FIMHlZ058K 3Jnz+E5gch7PKQecnfO4PNAOWJXENSXg+vWzUoZ+v5sTJ6yrqX9/15FIVCST9IcDN2EtmzfmfA5Q DXgn53EVrJSzAvgIeBtr75SIatbMShkrV7qOxB8WLYLy5eHKK11HIlHhp64alXci4re/hUOH4Nm8 inwRM2SIbUj329+6jkSCqqjlHSV98dy6dZCZCdu3R7tF8dgxqFEDFiyAunVdRyNBpW0YxPcuvRQu vhjmznUdiVuzZlmyV8IXLynpixO33w6vv+46Crdeew3uvLPQp4mklMo74sSePTbC3bYNzjnHdTTe 27sXateGrVvhvPx2rRKJg8o7EgiVKlldf+JE15G4MXYsdOyohC/eU9IXZ+64I7olHpV2xBWVd8SZ I0egenVYtswmdqNizRpo08a6l4oXdx2NBJ3KOxIYpUvb/vH//KfrSLw1apRNZCvhiwsa6YtTy5bZ GbqbNkGxCAxBvv8eLroI5syBBg1cRyNhoJG+BErjxlChQnR69ufMgWrVlPDFHSV9cW7gQPj7311H 4Y2XXrJ/r4grKu+Ic/v320TuunVQOb+jeEJg5064/HLIzoazzy78+SLxUHlHAufcc6FnT5vgDLNX XoG+fZXwxS2N9MUXFi2yvvV16yDDT3dlinz/PfzoRzB1KjRs6DoaCRON9CWQmjWDUqXggw9cR5Ie M2bYBK4SvrimpC++kJFhE5wvveQ6kvR48UUYNMh1FCIq74iPfPONbUK2ejVUreo6mtTJzoZGjWwF brlyrqORsFF5RwKrQgU7Q/fFF11HklovvwwDBijhiz9opC++smYNtG5tWw6XKeM6muQdOgS1atlc xY9/7DoaCSON9CXQ6teHq66yrYfDYPRoaNJECV/8Q0lffOe+++CFFyDob/xOnIDnnoMHHnAdichJ SvriO+3bw8GDMH++60iSM2uWtaG2bu06EpGTlPTFd4oVg3vvtdF+kOWO8sO42EyCy0+3oyZy5T8O HLD9eJYssTbOoPnkE+jQwSakS5VyHY2EmSZyJRTOOgsGD4bhw11HkpjnnoMhQ5TwxX800hff2rMH 6tWDFSvs4JGg2L7dOpA2bIDzz3cdjYRdUUf6Svriaw89ZJO6I0a4jiR+gwfDOefAU0+5jkSiQElf QmXXLuvd/+yzYGzNkLvlwrp1UKmS62gkCpT0JXTuu886ep57znUkhRs0yEo6Tz7pOhKJCiV9CZ3P P4crrrDR8wUXuI4mf1u32pm/69erli/eUfeOhE716rYRm99r5E88YfV8JXzxM430JRC+/NLOl/3o I6hTx3U0P7R5MzRtaqP8ihVdRyNRopG+hFKVKnD//fDII64jydvDD8PQoUr44n8a6UtgHDpku1WO Hg0tW7qO5qT33oO777bDX8qWdR2NRI1G+hJaZcvC739vI/4TJ1xHY44ft32Cnn1WCV+CQUlfAqVf P2vfHDPGdSRm5EgrPfXo4ToSkfiovCOBs3Ah9OkDq1bZEYuu7N4NDRrYqVgNGriLQ6JNffoSCUOG 2E6cr73mLoa777btFp5/3l0MIkr6EgkHDtimZs8/D127en/9KVNsbmHFCkv8Iq4o6UtkzJsH/fvb 3vVeLoj68kto2BAmToQWLby7rkhelPQlUu6/H776yto4vXDiBHTqBNdeC7/7nTfXFCmIWjYlUv73 f2HZMniux9KYAAAENklEQVTlFW+uN2IE7NsHjz3mzfVEUk0jfQm8devghhtg3DjIzEzfdT780Foz Fy2CunXTdx2RotBIXyLn0kutb79vX9v7Jh0+/RR69bIykhK+BJmSvoRCmza2y+XNN8Pevan93tnZ 0LGjdQq1a5fa7y3iNSV9CY2BA6380qaN7cGfCrt3Q4cO8OCDcOutqfmeIi4lk/RvAT4DvgcaFfC8 DsBaYAPwcBLXEynU8OG2Wrd5c2vlTMbHH9t2yX362OldImGQTNJfBfQA5hXwnOLACCzxNwD6A/WT uGYkZGVluQ7BN4r6WmRkwKOPwtNPQ9u2MGNGYtd97TVo394ObvFLa6bui5P0WiQumaS/Fihs2qwp sBHYChwDxgLdkrhmJOiGPinR16JfP3jrLSv59O5tHT7x2LAB7rjDdvPMyrJRvl/ovjhJr0Xi0l3T rw5sP+XzHTl/JpJ2LVpYN0+TJrb//qBBtvf9/v2nP+/IEViwwLpzrrsOLroIFi+Gyy5zE7dIOpUo 5O/nAFXy+PPfANPi+P5qvBenypWzU60GDoQ//tEWVa1cCTVr2ilX2dk2WVu3rv1SGDUKzjrLddQi 6ZOKxVnvAw8CH+fxd82AYVhNH+BR4ASQ1xHXGwEfnn4qIuJrmwBPV4+8DzTO5+9KYAHVAkoBK9BE rohIIPXA6vWHgC+B3D6JasA7pzyvI7AOG8k/6mWAIiIiIiLikBZvmZpYqewz4FPgXrfh+EJxYDnx NQ2E2XnABGANsBqbK4uqR7GfkVXAGKC023A89SqwC/u356qINdysB2Zj94qvFcfKPrWAkkS75l8F aJjz+CysJBbV1yLXA8BoYKrrQBwbBdyV87gEcK7DWFyqBWzmZKIfB9zpLBrvXQ9czelJ/2ngoZzH DwPDvQ6qqJoDM0/5/JGcD4HJQBvXQThUA5gLtCbaI/1zsUQnNqpdB1TAfvlNA9o6jch7tTg96a8F Kuc8rpLzeYFcb7imxVt5q4X9Rv/IcRwuPQ/8GmvxjbIfAbuBf2Bt0X8HyjmNyJ29wLPANmAnsA8b GERZZazkQ85/KxfwXMB90tfirR86C6vfDgUOOI7FlZuBr7B6vp8O+nGhBLah4V9z/vsd0X03XAe4 DxsUVcN+Vga4DMhnYsSRU10n/c+xCcxcNbHRflSVBCYC/8LKO1F1HdAV2AK8AdwIvO40Ind25Hws yfl8AgXvahtm1wALga+B48Ak7F6Jsl2c3DWhKjZY8jUt3jopA0tsz7sOxGdaEe2aPthOtvVyHg8j 7xXtUXAV1tlWFvt5GQXc4zQi79XihxO5uV2PjxCAiVzQ4q1cLbH69QqsrLGck9tXRFkr1L1zFTbS X4mNbqPavQPWqZLbsjkKe3ccFW9gcxlHsbnQn2CT23MJUMumiIiIiIiIiIiIiIiIiIiIiIiIiIiI iIiIiEgg/X8yZOyHNFXn6AAAAABJRU5ErkJggg== ",
text: [
"<matplotlib.figure.Figure at 0x112dff850>"
]
}
],
prompt_number: 252
},
{
cell_type: "markdown",
metadata: { },
source: [
"With just a little bit of extra work we can easily plot multiple lines at once, and add a title, legend, and axis labels:"
]
},
{
cell_type: "code",
collapsed: false,
input: [
"y_sin = np.sin(x) ",
"y_cos = np.cos(x) ",
" ",
"# Plot the points using matplotlib ",
"plt.plot(x, y_sin) ",
"plt.plot(x, y_cos) ",
"plt.xlabel('x axis label') ",
"plt.ylabel('y axis label') ",
"plt.title('Sine and Cosine') ",
"plt.legend(['Sine', 'Cosine'])"
],
language: "python",
metadata: { },
outputs: [
{
metadata: { },
output_type: "pyout",
prompt_number: 254,
text: [
"<matplotlib.legend.Legend at 0x11739ac50>"
]
},
{
metadata: { },
output_type: "display_data",
png: "iVBORw0KGgoAAAANSUhEUgAAAYwAAAEZCAYAAACEkhK6AAAABHNCSVQICAgIfAhkiAAAAAlwSFlz AAALEgAACxIB0t1+/AAAIABJREFUeJzsnXdYVNf2v98BxIqKigV7A1HsvZvErmCNvSQ3icar15Sb xOQmuebml55oTL4pJrEbewUs2Hs3UWyIHVTsHQULs39/bFBUwAHOzJ457Pd5zuPMnHP2+TCeOWvv tddaGzQajUaj0Wg0Go1Go9FoNBqNRqPRaDQajUaj0Wg0Go1Go9FoNBqNRuPi9AdWqBZhA+uBVxx8 zQ+APxx8TY1Go1FKM2ArcB24AmwG6ilVlHHWAf9IZ78fMA+4hPw7I4C3ADf7S9NobEPfjBpnJz+w BPgB8AZKAv8D7qoUZTAVgR1ANBAIFAReBOoCXgp1aTQajUtRD7iWzv6XgE0p3luBocCRpPN+euL4 fwCHgKtAOFAmnbbnAeeQPf4NQNUU+6YAPyON2U1gO1Ahxf42wOGkc/+P9F1SfwJh6egACAYOIv+m dUCVFPtGAWeSdBwGnk/6/BNgetLrcsjvZhDSMF0C/pOiDQvwPnAMuAzMQRpojUajcRm8kA+wKUB7 nn6IvcTTBiMUOTIpDVwE2iXt6wIcBfyRo+sPgS3pXPslIC+QA/ge2JNi35QkXfUAd+RDf1bSviLI h3f3pH1vAvdJ2yV1Dhicjg4/IA54Iam9d5P+jhxJf0sMUDzp2DI8Mlyjedpg/AbkBGoACUnnA7yB dPv5JrU7HpiZjiaNRqNxSqoAk4HTyAdvCFA0ad9LPG0wmqR4Pwd4L+n1ch5/aLsBt5GG5VkUTGo7 2UU0Gfg9xf4OQGTS60HIh29KTpO2wbgHtE3n2h8Ds1O8tyBHFC2ASsAFpDHJ8cR5n/C0wfBNsX8H 0CvpdSSPRiYAJZJ0abe15iH6ZtC4AoeBl5EP9kDkQ29cOsefT/H6DpAv6XVZ5FzItaTtStLnJVNp ww34CumiuQGcTPq8SIpjLqR4HZ/iOr7IB3pKTqej9wqPP8ifpARyFJGMSGqvZJK+N5HG4QJylFMi nbbS+24W8ei7OQQ8AIql05Ymm6ENhsbViAKmIg1HRokBhiDdWslbXuT8w5P0R84bvAAUAMonfW6x 4TqxPD5qsZD+KGY10OMZ7ZVNpb2zSe9nAc2TjhHA1zZofJIYHrn8krc8SHeZRgNog6FxfvyBt3k0 CigN9AW22Xi+hUcP+fHIid7kyesCyGik1MiHjMS6ijQqX6TSblosA6oB3QAPYCSP5hhSYzTSjfYN j3r0lZDupPzAXKAT0mWUA/g3cv5hK3J+43nkvMTdpM8T07lWWoxH/o3JQQA+SIOp0TxEGwyNs3ML aIj0t8chDcU+5EMTZI9apDhe8Dgp9y9G9r5nI91M+3k0If4k05DRRGeBA0nXffI6qV0L5GT4i0iX 1mXkw39z2n8iJ4DGyHmGg8jIqvnALuTffAQYgIy2uoQ0HkFIl1FO4Mukz88hXWYfpKHxSb0p+QEZ LLASOWG/DWiQzvEajcOZhPS77k/nmB+RESERQG1HiNJoNBqN89EcaQTSMhgdkcN7kL3M1HzNGo1G o8kmlCNtgzEe6J3i/WF01IZGo9EowdnnMEryeDjiGaCUIi0ajUaTrXF2gwFPR6OkN3Gn0Wg0Gjvh oVrAMzjL4/HrpXgUe/4Q3zK+IjYm1mGiNBqNxiQcR0bx2YSzjzBCkWUWABohww0vPHlQbEwsQgiE ENy5d4cftv+A7xhfus/pzpU7Vx7uc5YtLk7w6quCChUEv/8uuHUr/ePPnRMMHiwoWVIwc6bAak37 2NGjRyv/+5xl09/F49/FiasnqPtbXRpPaMyCQwt4kPgg3XO2xmylycQm1Pi1BmtOrFH+N6S2zZsn KFZM8M47gpiY9I+NjxdMnSrIm3c0b78tuH1bvX7VG7JSssswC5nFeo9HtXaGJm3J/IQsfxAB1Emj HfEkd+7dEW+Hvy0q/lBRHLp46Kn9qoiIEKJKFSEGDBDi5s2MnbtlixC1agnRo4cQ8fGpHzN69Ogs azQL+rt4RN8RfUXRb4uKcdvGCavVavN5VqtVLDi0QPiO8RU/bP/BjgozxtWrQvTuLYS/vxDbtmXs 3HfeGS369ROiQgUhdu60jz5XgWzq4k/zC5myZ4rw+cZHLD2y1IH/DamzaJEQRYoIMW1a5ttISBCi Z08hnn8+dYOjH5KP0N+FfOB/vPZj4dXWS2yJ2ZLpdk5eOykCfgoQb4W/JRKtiQYqzDhXrghRu7YQ Q4cKcedOxs9Pvi/mzxfCx0eITZuM1edKoA3G02yJ2SJKfFdC/Bnxp4P+G54mPFzenLt3Z72tBw/k j6VePSEuXnx837p167J+AZOgvwsh/rv2v6L2+Npi4bKFWW7r6p2rosXkFqLn3J4i4X6CAeoyTrKx eOcdITIwUHqMlPfFihWyE7d2rTH6XA20wUidAxcOCJ9vfMTaE46/MzZskDfl5s3GtWm1CvHhh0JU rSrE9evGtasxDz9u/1FU/rGyuBB3wbA2E+4niOBZwWLwosEZcm0ZQbKxePfdzBuL1Fi3Tv4+V6ww rk1XAW0w0mbNiTWi6LdFxYELB+z83/CIXbvkyGLVKvu0P2yYEJ07C5Go1kugcTJm7pspSo0tJU5e O2l423F340Tt8bXF15u/NrztlHh7eyc/0PSWxc3b2zvV7xhtMNJnesR0Ufb7siL2ZqxR93WaXLok RKlSQizMujcgTe7eFaJFCzna0GiEEGLDqQ2i6LdFxf4L++12jdM3TouSY0qKxZGL7XaNjPyuNemT 1ndJBg2GLbX9XYGkv902/t+G/0f48XA2vrQRdzd3OwmC4GDw94fvvrPLJR5y8SI0aADffgsvplWs W5MtuBZ/jZrjazK+83g6Vu5o12vtPLuTTjM7sXrgamoWr2l4+xaLhYz8rjVpk9Z3abFYIAN2wNnz MOzChy0+xNPdk2+3fmu3a/z4I5w/D188uYqCHShaFBYtgn/+Ew4ftv/1NM6JEIKhS4bStUpXuxsL gAYlG/B9u+/pu6AvCQ8S7H49jXqy5QgDIPp6NPX+qGeX3tFff0H79rB9O1R0YFrMzz/DzJmwcSO4 22fgpHFiJu+ZzNjtY9n12i5yeeRyyDWFEPSc1xO/Qn582fpLQ9vWIwzj0COMLFK2YFm+a/MdAxcN 5O6Du4a1Gx8PffvCTz851lgADBsGbm7ScGiyF0evHOW91e8xq8cshxkLkA+cXzr+wqS9k9h5dqfD ruvMzJgxg3bt0lqXS+MMZGoiyGq1im6zu4l3V76bqfNTY/RomYmtisOHhShcWIiTJ9Vp0DgWq9Uq WkxuIcZtG6dMw6z9s0TATwEi/n4aJQgySFSU8096b9q0STRu3FgUKFBAFCpUSDRt2lTs2rVLtaxU Seu7REdJZYyLcRdF0W+LiojzEZluI5ljx+TDOiYmy01lia++EqJ1a2Nj1TXOy8x9M0Xt8bXFg8QH yjRYrVbRfU53MWrVKAPakpUMsvK7tjc3btwQBQoUELNnzxZWq1XEx8eLlStXin379qmWlippfZdo g5Fxft75s3huynNZSkSyWoXo2FE+rFVz/74QdeoIMXmyaiUae3Pr7i1RckxJsTnawKzQTHL+1nlR 5Jsi4vClw1lqZ/p0WTMtq79re7Jr1y5RsGDBVPdNnjxZNGvW7OF7i8Uixo8fLypXriwKFiwohg8f /tjxEydOFAEBAcLb21u0a9dOREdHG643re8SbTAyzv3E+yLwl0Cx8FDmEyYWLZJFBe/ezZIUw9i5 UwhfXyHi4lQr0diTUatGiQELB6iW8ZBvNn8jgmcFZ/r8K1eEKF5ciB07nNtg3Lx5UxQuXFgMHjxY LF++XFy9evXhvtQMRlBQkLhx44aIiYkRPj4+Ijw8XAghxOLFi0WlSpXE4cOHRWJiovjss89EkyZN DNeb1neJNhiZY9XxVaLCDxUy5YO9fVuIsmWFWLMmyzIMpU8fIT79VLUKjb2IuhwlCn9d2CFJqLYS fz9elBtXTqw7uS5T57/5phCvvy5f2/K7lhlPWdsyS2RkpHjppZdEqVKlhIeHhwgODhYXLlxI1WBs 2fKo8GOvXr3E11/LLPn27duLiRMnPtyXmJgo8uTJI2IM9mun9V2SQYORbaOknqR1hdYEFg1k3PZx GT533DiZOPf883YQlgU+/1xqu/DUCiIaM/DWircY1XQUJbxKqJbykFweufi69de8veJtrMKaoXNj YmDaNPjkE9vPMcJkZJYqVaowefJkTp8+zYEDB4iNjeXNN99MDlV9jOLFiz98nSdPHuLi4gCIjo7m jTfewNvbG29vbwoXLgzA2bNPrRPnFGiDkYLv2nzHd1u/43zceZvPuX4dvv8ePvvMjsIySYUKMHgw /O9/qpVojGbDqQ1EXorkjUZvqJbyFC9WfZFcHrmYHjE9Q+f9738yNLxYMTsJsyP+/v4MHjyYAwcO ZOi8MmXK8Pvvv3Pt2rWH2+3bt2nUqJGdlGYNbTBSULlwZQbWGMiXm2xPQBo7FoKCwM/PjsKywIcf wrx5EBWlWonGSEavH81/W/4XT3dP1VKewmKxMKbtGD5a9xF37t+x6ZzISAgLg3fesbM4g4iKimLs 2LEPRwKnT59m1qxZNG7c+Jnniker3fH666/zxRdfcOjQIQBu3LjBvHnz7Cc8i2iD8QSjmo1i+r7p nLt17pnHXr4sk+T++18HCMskhQvDu+/C+++rVqIxinUn13H21lkG1BigWkqaNC7dmIYlGzJ+93ib jv/4Y2ksCha0szCD8PLyYseOHTRs2JB8+fLRuHFjatSowZgxYwAec0s96aKyWCwPP+vatSujRo2i T58+FChQgOrVq7NixQrH/SEZJNuWBkmPN8PfxIKF79t/n+5x770HcXHwyy+GXdouxMfLrPPly6Gm 8TXiNA5ECEGLKS0YWneoUxsMgIjzEXSY0YETb5xIN/t81y7o1g2OHIE8eR59rkuDGIcuDWJH3mv6 HlMjpqY7l3HuHEyYIF0+zk7u3PD22/ClsaV+NApYfWI1l25fom9gX9VSnknN4jWp51uPSXsmpXvc xx/LLaWx0DgneoSRBiOXj8TT3ZPv2qZem/yNN2SBv7FjDb2s3bh1S06Cb9nivPMtmvQRQtBkUhNG NhhJ3+rObzAAdpzZQa/5vTj6r6Opzrfs2SPnAE+cAM8ndusRhnHoEYadGdV0FJP2TOLi7YtP7bty BaZPl3MDroKXFwwfDt98o1qJJrOsPL6Sm3dv0qtaL9VSbKZhqYb4F/ZPM2Lqm2/gzTefNhYa50SP MNJhxLIR5M2Rl6/bfP3Y5599BidPwsSJhl/Srly9CpUrw969ULq0ajWajNJmehsGVB/A4FqDVUvJ EBujN/KPkH9weMRhPNw8Hn5+8iTUry9HF/nzP32eHmEYhx5hOIB3m7zLhD0TuHX31sPPEhJk6fJ/ /1uhsExSqBD84x/2XwFQYzwR5yM4dOmQy7iiUtKibAt8vXyZfWD2Y5+PGQOvvZa6sdA4J9pgpEPZ gmV5vvzzTNk75eFn06dDvXpQtao6XVnh7bfl33DxaU+bxokZu30sI+qPcMq8C1v4oNkHjNk25mEv 99IludjXG86Xd6hJB20wnsFbjd7ihx0/kGhNxGqVvSJXSS5KjRIloGdP+P131Uo0thJ7K5awqDCG 1huqWkqmaVepHXfu32FTzCYA/u//5PrzKSpmaFwAbTCeQeNSjSmUuxBLjixhyRI5edyypWpVWeNf /4Jff4X791Ur0djCTzt/on/1/hTKXUi1lEzjZnFjZIOR/LDjB27flvefK7p1szvaYDwDi8XCW43e YtyOcXz7rRxdpFJbzKWoXl1Ofi9cqFqJ5lncvnebP/7+wylrRmWUQTUHsf7Uev5vWjSNG+vw7tQI DAxk48aNqmWkiTYYNtCzak8izx/j6K299OihWo0xjBwp3QIa52by3sk0L9OcSoUqqZaSZbxyejGo xmDGbv6Z4cNVqzGGmTNnUq9ePby8vPD19aVjx45s2bIl0+0dOHCAFi1aGKjQWLTBsIEc7jkoc2EE Jbp/j4fHs493BYKD4fRp+Ptv1Uo0aSGE4KedP/FmozdVSzGMxu4juFJmEk1a3lYtJcuMHTuWt956 i48++oiLFy9y+vRphg8fTmhoqGppmmdg6GIjT3L9uhD5i10RBb4oKC7EXbDrtRzJl18K8dJLqlVo 0mLdyXWi6s9Vs7R0sLPRr58QgZ91Eb/u+vWZx9r7d50Vrl+/LvLlyyfmz5+f6v6EhATxxhtvCF9f X+Hr6yvefPNNcTdpOc5Lly6JTp06iYIFC4pChQqJ5s2bPzyvbNmyYk3SSmyjR48WL774ohg0aJDw 8vIS1apVE7t373547NmzZ0X37t2Fj4+PKF++vPjxxx/T1JvWd4leQMl4pk+H9i0L0a1qV6bunapa jmG8+iosXixDHDXOx/jd43m97uupLsjjily4AMuWwWdBI/lxx48unZS3bds2EhIS6NatW6r7P//8 c3bu3ElERAQRERHs3LmTz5IWzRkzZgylS5fm8uXLXLx4kS9TFHl78v86LCyMvn37cuPGDYKDgxkx YgQAVquVoKAgateuTWxsLGvWrGHcuHGsXLnSTn+xxCQOFvshhIzo+PlnyFlxCIMWD+KdJu+Y4kdc pAh07y6LKH7wgWo1mpRcvH2RFcdXML6zbeXBXYEJE6BHDwiu/hzvbxJsOb2FZmWaZalNy/+y/jsU ozNuuK5cuUKRIkVwc0u9zz1z5kx++uknihQpAsDo0aMZOnQon376KZ6enpw7d45Tp05RsWJFmjZt muZ1mjdvTvv27QEYMGAA48bJFUF37drF5cuX+eijjwAoX748r776KrNnz6Zt27YZ/ntsRRuMZ7Bp E1ityaG0jcjtkZv1p9bzXPnnVEszhGHDoHdvGDUK0rj3NQqYvGcy3at0p2AuF1kg4hk8eAC//QYh IbIX/WrtV/nj7z+ybDAy87A3gsKFC3P58mWsVmuqRiM2NpayZcs+fF+mTBliY2MBePfdd/nkk08e PtiHDBnCqFGjUr1OsRTLD+bJk4eEhASsVivR0dHExsbi7e39cH9iYqLdJ8z1I+IZ/PorvP66DKW1 WCwMqTuE3/76TbUsw6hbF/Llg/XrVSvRJGMVVn776zder/e6aimGsXQplCoFtWvL94NqDiLkcAjX E66rFZZJGjduTM6cOVm0aFGq+319fTl16tTD9zExMfj6+gKQL18+vvvuO44fP05oaChjx45l3bp1 Gbp+6dKlKV++/GNLu968eZMlS5Zk+m+yBW0w0uHCBQgPl+tiJzOgxgDCj4Vz6bY5HP8Wi5zLmDBB tRJNMquOr6JgroLU862nWophTJgAQ4Y8eu+T14e2Fdsyc/9MdaKyQIECBfj0008ZPnw4ISEh3Llz h/v377N8+XJGjRpF3759+eyzz7h8+TKXL1/m008/ZeDAgQAsWbKEY8eOIYQgf/78uLu7p+naSosG DRrg5eXFN998Q3x8PImJiRw4cIDdu3fb4899iDYY6TBtmlwJLOWykQVzFaRrla5MjTDP5Hf//nIy 8upV1Uo0wMPRhRnmyQBiY2HzZlkKJCWv1XmNP/7+w2Unv99++23Gjh3LZ599RtGiRSlTpgy//PIL 3bp146OPPqJevXrUqFGDGjVqUK9evYfzDceOHaNNmzZ4eXnRpEkThg8fTstUykekXMo15WcA7u7u LFmyhL1791KhQgV8fHwYMmQIN2/etOvfbI470g7lzYWAatVkzaVmT7hZt57eykuLXyJqRJRpftT9 +0OjRrJsiEYd5+POE/BzADFvxuCV00u1HEP4+ms4evTpUaxVWKn0YyXmvjg31dGULm9uHLq8uZ3Z uVPWWkotgKFxqcbk9MjJ+lPrHa7LXrzyCvzxhzSUGnXM2DeDblW6mcZYCAGTJsmy+k/iZnHjldqv 8MdffzhemCZTaIORBlOmwEsvpV43ymKx8I9a/zCVW6pVK7h9G+zsAtWkgxCCKRFTeKnWS6qlGMa2 bfI31Lhx6vtfrv0y8w7NI+5enGOFaTKFNhipEB8Pc+fCoEFpH9Ovej9CokJMc6O7uclRhqutImgm /j73N7fv3c5yqKkzkTy6SMtz6+vlS7MyzZh/aL5jhWkyhTYYqRASIsNN01vGtFi+YjQt3ZRFkamH 1bkiL70kDWV8vGol2ZOpEVMZXHMwbhZz/Czj4mDBAkgKDkqTQTUHMX1f6mt+a5wLc9yZBjN5Mrz8 8rOPG1RzkKncUr6+co1lXTvN8dx9cJdZB2YxqGY6w1oXY/58GTBSokT6x3X268ze83s5c/OMY4Rp Mo02GE9w5gzs2gVduz772GD/YPac38PpG6ftL8xBDBgAf/6pWkX2Y+nRpVTzqUZ57/KqpRiGrR2v XB656BnQkxn7ZthflCZLaIPxBNOmQa9ekDv3s4/N5ZGLF6u+yJ/7zPOE7dZNlkPRBQkdy5S95prs jo6Ggwehc2fbjh9YcyDT9k17LPTT29v7YS6C3rK2pSwhkhW0wUiBELIybXqT3U+S7JYyS7x4vnzy Rz57tmol2YcLcRfYGL2RnlV7qpZiGLNmyUKDnp62Hd+0dFPi78ez5/yeh59dvXoVIYTLbitWCOrV U69DCMFVg7JytcFIwd69cPdu2iGAqdG4VGMSRSK7YnfZT5iDGThQu6UcyewDswn2DyafZz7VUgxj xgyZDGorFouFgTUGMj3CPJPfzz8vXdxRUaqVGIc2GCmYORP69cvYmt0Wi4VBNQaZap2MF16AmBhz 3ejOzMwDM+lfPQNPVydn3z64cePpCgnPYkCNAcw8MJMH1gf2EeZgPDygTx9pPM2CaoPRHjgMHAVS q+/bCrgB7EnaPrKXEKtVDqP79cv4uQNqDGDeoXncT7xvvDAFeHhA377mutGdleNXj3Pq+ileqPCC aimGMWOG/B1ltFx+5cKVqeBdgZXH7bsIkCMZMEB+HybxWCs1GO7AT0ijURXoCwSkctwGoHbS9pm9 xGzaJBcUqlo14+eW9y5PBe8KrD251nhhikh2S5nlRndWZh+YTc+Anni4mWNpmuSOV0bcUSkZWGOg qYJI6tSBHDlg+3bVSoxBpcFoABwDTgH3gdlAl1SOc0h1v2R3VGbpE9iHWQdmGSdIMbVqyUixrVtV KzEvQghmHphJv+pZuPGcjE2bZHXn6tUzd/6LVV9k2dFl3L5321hhirBYHo0yzIBKg1ESSJnAcCbp s5QIoAkQASxDjkQM5949mZHap0/m2+hVrRchUSEkPEgwTphCLBbpltLRUvZj/8X9xN2Lo3HpDERZ ODkZnex+Ep+8PjQs1ZClR5caJ0ox/frJCgr3TeCxVjkOtsXZ8TdQGrgDdAAWA36pHfjJJ588fN2q VStatWpls5AVK6QrqkwZm095Cl8vX2oVr8Xyo8vpFpD6wvCuRu/e0KIFjBsH7u6q1ZiPWftn0Tew r2lKgdy9Kztee/dmrZ0+1fow5+AcelXrZYwwxVSoAJUqwapV0LGjWi3r169nvYsur9kICE/x/gNS n/hOyUmgUCqfi6zQp48Qv/6apSaEEEL8tvs30Wter6w35ETUri3E2rWqVZgPq9Uqyn5fVuw9t1e1 FMMIDRWiefOst3P1zlWR/8v84kbCjaw35iSMGyfE4MGqVTwNtnXcH6Kya7MbqAyUAzyB3sCTVYyK 8WgOo0HSa0PXhYuLg+XLoacBOVM9AnoQfizcNBVsQY4y5sxRrcJ8bDuzjTw58lCjWA3VUgxj7lx5 v2QV79zetCzbkpDDIVlvzEno2VPWaLt7V7WSrKHSYDwARgArgEPAHCASGJq0AfQE9gN7gXFAFmYZ UmfpUpmoV6RI1tsqnKcwzco0IzTKPNX7evWSbgYz+F+diVn7Z9Gvej/TrNiYkABLlsjsbiPoE9iH 2QfNM4FWsiQEBsJKF48YVu08XQ74A5WAL5M++y1pA/gZCARqISe/DQ9Omzv36bWGs0LfwL6mipYq X176YNeaJ2JYOYnWROZHzqd3NQO6407CihUysq54cWPaC/ILYnPMZq7cuWJMg05Ar17yeePKqDYY SomLg9WrbatMaytd/LuwMXoj1+KvGdeoYrRbyli2nN5CsbzFqFy4smophjF3rnwgGoVXTi/aVmzL osPmWW+mZ085Cktw4UDKbG0wli6FJk2gUGrT6JnEK6cXL5R/wXRuqZAQGX6syTrzDs7jxaoGDmsV Ex8vf0vduxvbbp9qfZh9wDxuqeLF5SgsPPzZxzor2dpgGN0rSqZn1Z7MjzTPkpOlSsmwY1f3vzoD VmFlQeQCXqxmHoMRHi4zmosVM7bdjpU7sjt2NxdvXzS2YYX07u3abqlsazCS3VFdUsstzyKd/Tqz 4dQGbiTcML5xRWi3lDFsidmCT14f/Aqnmk7kktir45U7R27aV2rP4sOLjW9cEd27w7JlcOeOaiWZ I9saDHu4o5LJnzM/rcq1YsmRJcY3roju3eV3pt1SWWPeIXO5o+7ckQ9Ao91RyfQI6MGCyAX2aVwB RYvKZZCXL1etJHNkW4Nhr15RMj2r9mTeoXn2u4CD8fWFgABYs0a1Etcl2R1lpoWSli+XD8CiRe3T fofKHdh2epupoqVefBHmueijIVsaDHu6o5IJ8gti7cm13Lp7y34XcTA9esicDE3m2HZ6G4VyF6JK kSqqpRjG/PnGJL2mRT7PfLSp2MZUQSRdu8p5H1eMlsqWBsOe7qhkvHN706xMM1MVUeveXUZLPTDH +jYOx2zuqIQEOcIwMiw9NczolqpVS9aWcjWypcFYuNC+vaJkelbtyfxD5omWKlcOypaFjRtVK3E9 rMLK/EPzTWUwVq+GGjWMS9ZLi85+ndkYvdFUQSTdu8vnkKuR7QxGQoLMSg0Otv+1uvh3YdWJVaap 7Q/SLTXfPDbQYew8u5P8OfMT4JPaGmGuycKF9pvsTkn+nPlpWa6lqYJIunWDsDDXK7mT7QzGqlVy OOjjY/9OcrgZAAAgAElEQVRrFc5TmEalGrHs6DL7X8xB9OgBixbJldU0trMochHdAxzwdHUQDx7I YnrdHFTJv2eAuXKbSpeGihVhwwbVSjJGtjMYjuoVJdOtSjdTlTfw85PGVq/EZztCCBYeXmgqg7Fx o6wzVrasY64X7B/MmhNrTFUJ2hWDSLKVwbh/Xw4DHdUrAumWWn5sOfcSzZPA4Io3ukoOXjrI/cT7 1C5eW7UUw1iwwLEdL+/c3jQp3cRUo/Xu3WHxYkhMVK3EdrKVwUjuFZUu7bhrlvAqQUCRANaeNE+5 12SDITK09Er2ZWHkQrpW6WqaUuZWq3RLGlXK3Fa6VelmqqzvSpVkxNS2baqV2E62MhiLFjm2V5RM tyrdWBRpHrdUtWqQKxf8/bdqJa7BosPmmr/YsUOGpPs5uLpJlyrmG627WrRUtjEYyb0iJQYjoBsh USEkWl1o7JkOFouMvV9sns6e3Th57SRnb56laemmqqUYhqPnAZMpnq84AUUCWHdyneMvbid69JDf p6uM1rONwdi5EwoUAH9/x1+7UqFK+OT1YfsZw9d/UoY2GLax6PAigv2DcXdzVy3FEIRQZzDAfEEk 1aqBhwdERKhWYhvZxmCovMnBfDd6o0Zw6RIcO6ZaiXNjNnfUgQNykrZmTTXX71qlKyFRIViFOeK6 XW20ni0MhhDSHeXI6KgnSTYYwlXGns/AzU3W4goJUa3EebkQd4H9F/bzQvkXVEsxjJAQ+YBTNX9f uXBlCucuzI4zO9QIsAPaYDgZkZEyw7tOHXUaahWvRaI1kf0X96sTYTBdu0pDrEmdkKgQ2ldqT06P nKqlGMbixfavHfUsulbpaqpoqcaNITYWTp5UreTZZAuDERIie8MqoxotFovpoqWef166KC5cUK3E OQmJCqFrFcVPVwM5fRpOnYJmzdTqMNto3d1dlipyhdF6tjAYixfbt5S5rXQLMNc8Rs6c0K6dTIbU PE7cvTg2RW+iQ6UOqqUYRmgodOokJ2lVUqdEHRIeJBB5OVKtEAPp0sU13FKmNxixsXDkCLRsqVoJ NCndhLO3zhJ9PVq1FMNwJf+rI1lxbAWNSjWiQK4CqqUYhjO4o0CO1rtW6Wqq0Xrr1rBnD1y+rFpJ +pjeYISFQYcO4OmpWgl4uHnQqXInUy0G07GjzKC/ZZ51ogwhJCqELv5OMKw1iOvXZcJe27aqlUi6 VunK4ijz9FRy55ZGY4mTF+Q1vcFInr9wFrr4dyEkygWclTZSoICctAsPV63EeXhgfcDSo0sJ9ndA DX0HsWwZtGoFefOqViJpXqY5x68eJ/ZWrGophtG1q/PPY6RnMP4vne1H+0vLOrduwebNcoThLLSp 2IadZ3dyPeG6aimG0aWLnsdIyaboTZQrWI7SBRxYtMzOOIs7Kpkc7jnoULkDYVHmufE6dYK1a+HO HdVK0iY9g/EXsDtp+yvF++TXTk94uFyKNX9+1Uoekc8zHy3KtmD50eWqpRhGUJDsgeqlWyVmc0fd vQsrV0LnzqqVPE4X/y6EHjGPe7dQIahb17mXbk3PYEwBpiZtU4B5KV5PtbMuQ3A2d1QyZnNLlS4t 10XYskW1EvUIIUxnMNatg8BAWVnVmWhfqT2bojeZao2MLl1kNJqzYsscRhPgEHA46X0t4Be7KTKI +/dlr9cRS7FmlCD/IMKPhZuq6mZwsHPf6I5i/8X9CCGoUayGaimGERrqnB2v/Dnz07h0Y1YeX6la imEEBcmJb2ddI8MWgzEOaA8kB3ztBZwgSDV9Nm2SSyCWLKlaydMUz1ecKkWqsOGUi63PmA7JiUcm yaXKNCGH5ejCLGtfCCENhjN2vACC/YJNNVqvUEGO5HbuVK0kdWyNkop54r3Te6vDwpz3JgfzuaVq 1YJ792QZluxM6JFQulRxwu54JtmzR0ZGqajybAvB/sEsPbKUB1anfyTZjDOP1m0xGDFAcjF/T+Ad wKkfC0LI3q5TG4wqXQiNCjVNeQOLxblvdEcQeyuW41eP07xMc9VSDMOZRxcApQuUpkyBMmw9bZ5F 5p35d2SLwRgGDAdKAmeB2knvnZZDh6QPsIYTu5EDigSQ0yMne8/vVS3FMJz5RncES44soX2l9uRw z6FaimGEhkq/ujMT7B9sqmTY+vXhyhXnXDrAFoNxCegHFAV8gP7AFXuKyiphYfImd2Y3ssViIcgv iLAj5okjb9lSGuvsWowwNCrUVMl6p09DTIwMTXdmkt27Zhmtu7nJ55cz5jbZYjAqAmHISe9LQAhQ wZ6isoqzD6OTCfILMlXPKGdOWTrC2csb2IPb926zMXoj7Su1Vy3FMMLCZOkX1cUGn0Wt4rW4++Au UVeiVEsxDGcdrdtiMGYCc4ESgC8yH2OWPUVlhYsXZS/XGYoNPotmZZpx4toJU5U3cPY4cnux+sRq 6pesT8FcBVVLMQxX6XhZLBY6+3U2VefrhRfgr7/g6lXVSh7HFoORG5gO3E/a/gRy2VNUVli6VPZy c7rAmjU53HPQvlJ7lhwxT5e8QweZ6BUfr1qJYwk7EkaQn5M7+zPAzZsyEbNdO9VKbMNs7t08eeC5 52C5kxWESM9gFAIKA8uBD4BySduopM+cEleYpEuJ2SbsChWC2rVlTZzsglVYWXJkiakMxsqV0LQp eHmpVmIbz5V/jn0X9nH5jpPXB88AQUHON1pPz2D8jawd1QsYAqxL2oYBve0vLeMkJMgHVceOqpXY TvtK7dkYvZHb926rlmIYznij25NdZ3dROE9hKhaqqFqKYbhaxyuXRy5eKP8Cy44uUy3FMDp1kob7 nhMVhEjPYJQDyqeyJX/udKxdKxPIChdWrcR2CuYqSD3feqw+sVq1FMNILm9gkqCVZxIaFUqwnws4 +20kMVGW1XG2YoPPwmxuqRIloHJlWbXCWbA10zsQOdIYlGJzOlytV5RMsH+wqW50f3+ZHfz336qV OIbQI+YKp922TZbUKVtWtZKM0cmvE6uOr+Lug7uqpRhGcLBzhdfaYjA+Qa6B8RPwHPAN4HS/DiFk r9YVDUaQXxBLjizBKqyqpRiGs93o9uLU9VNciLtAg5INVEsxjOQ8JlejaN6iBPgEsCHaPDXakvMx nGW0bovB6Am0Bs4BLwM1AaeLHdyzR0YWOGvNm/SoWKgihfMUZtfZXaqlGEZ2mccIiwqjk18n3N3c VUsxDFc1GJDkljLRoko1asjK285So80WgxEPJCILDhYALgJOt5SYK9/kYD7/a9OmEB0NZ86oVmJf zBZOe/y4jP2vX1+1ksyR/DsyS9a3xeJcWd+2GIxdgDfwBzJqag/gdJW+tMFwLjw8oH17c2d937x7 k+1nttO2YlvVUgwjLExG57jZOrvpZAQWDQTgwMUDipUYh6sZjH8C14DxQFtgMNI15VScOCF7ta5K o1KNiL0VS/T1aNVSDMOZbnR7sPL4SpqUbkI+z3yqpRiGq3e8LBaL6XKbWrWC/fvhshOkmKRnMOoC dZ7YvAH3pNdORbt2kMOFi4S6u7nTsXJHlh5dqlqKYbRvDxs3wm3zpJg8RtiRMDr7uVjsaTrcuCEX 7mnTRrWSrNHZrzNLjppnaJsrlywVsswJUkzSMxhjnrEZQXvk0q9HkRnkqfFj0v4IZGn1VHHlXlEy nSt3NpVbqmBB6QtfbZ4Uk4ckWhNZdnSZqeYvwsOheXMZEu3KtCzbkshLkVy8fVG1FMNwltF6egaj FTKMNq0tq7gjQ3XbA1WBvkDAE8d0BCoBlZHZ5r+m1ViHDgYoUky7Su3YErPFVIvaO8uNbjQ7zu6g RL4SlC3oYskK6eDq7qhkcnrkpHWF1iw9Yp7ReqdOMhLUqjjyXuXUVgPgGHAKWdRwNvDk2pbBwNSk 1zuQ4bzFUmvM29suGh1K/pz5aViqIauOr1ItxTCCgmRBSNU3utGERZkrOurBAznCcLXs7rQwWxBJ 0aJw5Ij6YASVly8JnE7x/kzSZ886ppSddSnFbDd6pUrSNbV7t2olxhJ2JIwgf/MYjG3boHRpuZmB jpU7subkGhIeJKiWYhiqjQWAyqVRbA2UfnLdvFTP++STTx6+btWqFa1atcqUKNUE+QXx+abPsQor bhYnuEMMINkt1cAkydAnr53k0p1LOrvbifHJ60Ng0UDWn1pvqkWtssr69etZv359ps+3ZRHTZsBe IA4YiJx4/gHIavxnI2TZkeT/zQ8AK/B1imPGA+uR7iqQE+QtgScXARVmSdQBCPwlkInBE2lYqqFq KYawcSO88Yb0wZqBH3f8yN7ze5nUZZJqKYYREADTprluwl5qfLX5K87cPMNPHX9SLcVpsch1rG1e zNqWLuyvwG1kSZC3gePAtMyIe4LdyMnscoAnsmT6k8HToTwqdNgIuM7TxsJ0dPYzV7RUkyZybejT p599rCtgtuzuY8fg+nWoW1e1EmMxW9a3M2CLwXiAdAN1BX5O2oxYVuUBMAJYARwC5gCRwNCkDWAZ cAI5Of4bMonQ9JhtHsPDQ0axmSHr++bdm+w4s4M2FV08WSEFYWFystsZfORGUtWnKu4Wd/Zf3K9a immw5Ra5BfwHGAAsQYbDGpUitxzwR4bOfpn02W9JWzIjkvbXRC7qZHp01rfzsuLYCpqWaaqzu10A i8ViumKEqrHFYPQG7gL/AM4jI5e+s6eo7E5y1reZ1vpu104uBOPqWd9hR8LoXNkksadIV9Tu3dC6 tWol9iHI31yjddXYYjDOITO7k9d9iuFRboTGTpjNLZWc9b3KhVNMkrO7zVQOJDm7O08e1UrsQ4uy LYi6EsWFONNPfTqE9AzGlqR/45BuqZTbTTvryva0rdiWrae3cuvuLdVSDMPVF1XadmYbJfOXNFV2 t6suOmYrnu6etKnQxlQ12lSSnsFIrv2aDznJnXLLb2dd2Z78OfPTuHRjVh5fqVqKYbh61rcZs7uX LzdPdndamG20rhJbXFKpeTcHGy1E8zRmu9ErVoRChWCXiy4saLZw2q1b5brdpUxdO0Fmfa89udZU Wd+qsMVgjEbmYuQFigNhOOGa3mYkyC+IZUeXkWhNVC3FMIKDXXPp1uNXj3M1/ir1S5onsy00VP5/ mJ3CeQpTs1hN1p5cq1qKy2OLwWiJzIWIQE58zwJ62FOURlK2YFmK5yvOjrM7VEsxDFcNrw07Ekan yp1MU64FzBtOmxo6vNYYbLn7vYH6yAzve0AZMpBKrskaZrvRGzWC8+flet+uhNmKDUZFQVwc1HG6 pdDsQ5B/EEuOLtFZ31nEFoOxDZmN3Q5pOEryKIJKY2fMFkfu7g4dO7rWKON6wnV2nd1Fmwrmyu4O CgJLNun6+Rf2J5dHLvae36taiktji8FoA0xMen0H+BeyUKDGATQo2YBLdy5x4toJ1VIMIyjIteYx wo+F06JsC/J6uvhSdCnILvMXyTzM+jZR50sFthiMaKRbqiHQImnT4zoH4WZxk0u3msgt1bYtbN8O N10kmyc0KpRgf/M8Xa9cgYgIeP551UocS7B/MKFRLtRTcUJsMRivARuBcOB/SPfUJ3bUpHmCYP9g Qo+Y50b38pIVbFe6QIrJ/cT7hB8LN1V297Jl0ljkyqVaiWNpWropJ66d4OzNs6qluCy2GIw3kMup RiPX8q4N3LCnKM3jtK7Qml1nd3Et/ppqKYbhKm6pzTGbqVSoEr5evqqlGEZ2io5KSQ73HHSo3MFU NdocjS0GIwGIT3qdC7mIkb/dFGmeIq9nXlqWa0n4sXDVUgwjKEj2dB88UK0kfUKjQk2VrHfvnhzZ deqkWokauvh3ISQqRLUMl8UWg3EaOYexGFiFXNTolB01aVIh2M9cbqkyZeS2datqJWkjhCAkKsRU 8xcbNsjV9YoVU61EDe0qtmNTzCbi7sWpluKS2GIwugHXkPMWHwMTkIspaRxIZ7/OhB8L517iPdVS DCM4GEKcuLN36NIhEkUiNYrVUC3FMEJDs6c7KpkCuQrQuJS5arQ5koymra5HjjDM89RyEUp4lcCv sB+bojc9+2AXoUsXaTCcNZcqNCqUYL/g5HWPXR4h5PfdpYtqJWoJ9g/WbqlMYp46B9mAYD9zhQXW qiV96ocPq1aSOqFHzBVOu3cveHpC1aqqlagl2D+YpUeW8sDq5BNoTog2GC5ElypdCD0SapryBhaL 87qlLsRdIPJSJC3LtVQtxTCSRxcmGTBlmjIFylC6QGm2nd6mWorLYYvBGImc9NYopppPNSxYOHDx gGophuGs1WvDjoTRrlI7PN09VUsxDO2OekSwn3ZLZQZbDEYxYBcwF2iPLjyoDIvFQrB/MIsPL1Yt xTBatYLISLjgZCtoLj68mK7+5ontiI6GM2dkwqRGjtZDokJMM1p3FLYYjA8BP2AS8BJwFPgCqGg/ WZq0MFscuaenLBWyxIlyqeLuxbExeiMdK3dULcUwQkNl7oWHh2olzkHt4rWJvx9P1JUo1VJcClvn MKzAeeACkIh0Uc0HvrWTLk0aNC/bnJPXT3L6xmnVUgwjOVrKWVhxbAWNSjWiQK4CqqUYhnZHPY4Z R+uOwNbSIH8B3yDLmgcCw4C6QHf7SdOkhoebB539OptqlNGhA6xfD7dvq1YiCYkKoWsV87ijrl+H nTvlSE7ziK5Vuprqd+QIbDEYhZCGoS1yHuN+0udWIBunAKmjq39XU/WMvL2hQQPnKEZ4P/E+S48u NVU47bJl0LIl5DVPdXZDaFWuFVGXo4i9Fataistg65reaa2PdshALRobaVuxLTvP7jRVMcJu3WCx E9jATTGbqOBdgVL5S6mWYhjaHZU6nu6edKjcwVS5TfZG52G4IHk98/Jc+edYdnSZaimG0aWLnPi+ f//Zx9qTkMMhpoqOuntXjtw6m6c6u6GYbbRub7TBcFG6+ndlcZR5bvRSpaBiRdi4UZ0GIQSLoxbT pYp5uuNr1kC1alC8uGolzkn7Su3ZenorNxL0ig22oA2Gi9LZrzMrj68k4UGCaimGodotFXEhghxu OajmU02dCINZtEh+r5rU8crpRYuyLUw1Wrcn2mC4KD55fahVvBZrTqxRLcUwunaVBkNVLtXiw4vp 4t/FNMUGExNl/oU2GOnTtYq5Ruv2RBsMF8Zs/teAABnJs3u3musvjFxI9wDzRIpv3QolSkCFCqqV ODdBfkGsOLaCuw/uqpbi9GiD4cIkx5EnWhNVSzGM5FGGozl65SiX7lyicenGjr+4nVi4UI8ubKFY vmJUL1adtSfXqpbi9GiD4cKU9y5Pqfyl2ByzWbUUw+jWTfrdHc3CyIV0q9INN4s5fhJCyO+xu3kG THalq39XFh1WcOO5GOb4dWRjugd0Z0HkAtUyDKN+fbhxA6IcXOJn4WFzuaP27pV1owIDVStxDboF dDPdaN0eaIPh4vQI6MHCyIVYhVW1FENwc5NuqYULHXfN0zdOc+zqMVqWNc/aF8nRUSaZv7c7Fbwr 4Ovla6rRuj3QBsPFCfAJIH/O/Ow6u0u1FMPo0QMWOHDQtPjwYoL8gsjhnsNxF7UzCxdqd1RG6RnQ k/mH5quW4dRog2ECzOaWatECYmLg5EnHXG9B5AJTuaOOHoWrV6FhQ9VKXIseVXuw8LB5Ruv2QBsM E5DsljLLYjAeHo5zS128fZE95/fQpkIb+1/MQcyfL78/N/3rzhBVilShYK6C7DizQ7UUp0XfUiag VvFaJIpE9l3Yp1qKYfToIR989iY0KpR2FduRO0du+1/MQcyfDy++qFqFa6LdUumjDYYJsFgs9Ajo YSq31PPPw5EjcNrO60SZLVnvxAm5FGuLFqqVuCY9qsrfkVlG60ajDYZJSHZLmYUcOSA42L5uqWvx 19gcs5lOlTvZ7yIOZt48Odnt7q5aiWtSvWh1crjn4O9zf6uW4pRog2ESGpZqyLWEaxy+fFi1FMPo 2dO+bqnFhxfTukJrvHJ62e8iDmb+fPm9aTKHxWLRbql00AbDJLhZ3OgZ0JO5B+eqlmIYrVvDgQNw 7px92p97aC69qvWyT+MKOHkSoqPl6nqazKPdUmmjDYaJ6FWtl6kMRs6c0KmTfUqFXI2/ytbTW+ns Z56VhZKjozw8VCtxbeqWqMu9xHumCiIxCm0wTETj0o25cfcGBy8eVC3FMHr2lH55o0l2R+XzzGd8 44rQ0VHGYLFY6F2tN3MOzlEtxenQBsNEuFnc6FW1l6lu9PbtZV0ko91Scw/OpVdV87ijoqNlhFSr VqqVmIPegdJgaLfU42iDYTKS3VJmudFz5ZLRUkaOMq7cucK2M9vo5Gee6Kj58+W66DnMU91EKbWL 18bN4sZf5/5SLcWpUGUwCgGrgCPASqBgGsedAvYBe4CdDlHm4jQo2YCEBwmm8r/26QOzZxvX3qLD i2hbsa2p3FFz5kAv8wyYlGOxWOhTrQ+zDxh445kAVQbjfaTB8APWJL1PDQG0AmoDDRyizMWxWCz0 qmYut1Tr1jKJ79QpY9qbd2ieqdxRx45Jl9Tzz6tWYi56B/Zm7sG5urZUClQZjGBgatLrqUDXdI7V BZozSO9qvU3llsqRQ5YKmWtAANjlO5fZfmY7HSt3zHpjTsKsWXKyW0dHGUtg0UC8cnqx/cx21VKc BlUGoxhwIen1haT3qSGA1cBu4DUH6DIFdUrUATBVtmqfPtLtklXmHZxHh0odyOuZN+uNOQFCSIPR r59qJeZEu6Uex559klVA8VQ+//CJ9yJpS42mwDnAJ6m9w8Cm1A785JNPHr5u1aoVrbJxuEiyW2r2 gdnU9a2rWo4htGgBsbHSNeXnl/l2Zuyfwaimo4wTpph9++DOHWhsnqXInYregb1pOaUl37f7Hnc3 16+3sn79etavX5/p81W5ew4j5ybOAyWAdUCVZ5wzGogDxqSyT5jF/WIUBy8epN2f7Yh+M9oUNzrA G29AkSLw8ceZO//U9VPU/6M+Z98+i6e7p7HiFPF+0uzfV1+p1WFm6vxWhzFtx/Bc+edUSzEci1yS 0WY7oMolFQoMTno9GFicyjF5gOQiP3mBtsB++0szB9WKVsMnrw8bojeolmIYffpI90tm+waz9s+i Z0BP0xgLq1VGj/Xtq1qJuekT2IdZB2apluEUqDIYXwFtkGG1zye9B/AFlia9Lo50P+0FdgBLkCG4 GhsZUH0AM/bNUC3DMBo1ku6XiIiMnyuEYMb+GfSv0d94YYrYtg3y5oUaNVQrMTf9qvdjQeQCEh4k qJaiHFUG4yrQGhlW2xa4nvR5LJCcTXUCqJW0BQJfOlijy9O3el8WHV5E/P141VIMwWKBAQNg+vSM n7vvwj7i7sXRpHQT44UpYtYsObqw6DhCu1IqfylqFa/FkiNLVEtRjs70NjG+Xr7U9a1rqht94ECY ORMePMjYeTP2z6BvYF/cLOa45e/fl9nvffqoVpI9GFhjINP3ZaKnYjLM8evRpEn/6v35c/+fqmUY hr8/lC0Lq1fbfo5VWJl1YJap3FErVkClSnLT2J8eAT3YcGoDl+9cVi1FKdpgmJzuAd1Zf2o9V+5c US3FMAYOhGnTbD9+U/QmCuUuRGDRQPuJcjBTpsDgwc88TGMQXjm96Fi5I3MOmKeCQmbQBsPk5M+Z nw6VOjDvkB1qhCuid29Ytgxu3rTt+On7ptO/unlGF1evyhGWrh3lWLRbShuMbMGAGgNMdaMXKSLL eC9Y8Oxjb9+7zYLIBQysMdDuuhzF7NnQoQMUTKtkp8YutKnYhlPXT3H0ylHVUpShDUY2oF3Fdhy/ epyoy1GqpRjGoEG2uaXmH5pPszLNKOFVwv6iHIR2R6nBw82DPoF9+HOfeeYEM4o2GNmAHO45GFhj IJP3TlYtxTA6dYL9+2WV1vSYvHcyL9d62TGiHEBkJJw5A23aqFaSPRlUcxDT9k3LthVstcHIJrxS 5xWmRkzlgTWD8ahOSs6c0oefXk7G8avHOXTpkKnW7Z46VU76u5uj2ovLUbt4bQrmKsjak2tVS1GC NhjZhCpFqlDBuwLLji5TLcUwXnkFJk6UJTJSY8reKfSv3t80pUASE6WB1O4odVgsFl6t/SoT/p6g WooStMHIRrxS+xUm7pmoWoZh1K0L3t6p52QkWhOZEjGFl2ubxx21ahX4+kLVqqqVZG/6Ve9H+LHw bJmToQ1GNqJXtV5sjN7I+bjzqqUYxmuvwR9/PP35mpNrKJa3GDWKmafQ0u+/y79Xoxbv3N4E+Qcx PcI8kYe2og1GNiKfZz66V+nOtIgMZL05Of36yZ73hQuPfz5pzyRTTXbHxsL69boyrbPwWp3XmLBn gmlWtbQVbTCyGa/UkW4ps9zoBQpA9+5yMjiZi7cvEn4snL7VzfN0nThRJix6eT37WI39aV6mOfcT 72e75Vu1wchmNC7VGHeLO5tiUl240CV57TWYMOHROhmT9kyie0B3CuUupFaYQSQmSrfb0KGqlWiS sVgsvFon+01+a4ORzbBYLAyrN4xfdv2iWophNGoEnp6wYYOc7B6/ezzD6w9XLcswli+Xk921aqlW oknJoJqDWBC5gJt3baxRYwK0wciGDK41mJXHVxJ7K1a1FEOwWOQo4/ffYdnRZRTLV8w0a5kDjB+v RxfOSPF8xWlTsQ1T90599sEmQRuMbEj+nPnpG9iX3//6XbUUwxg0SPbEv9/yC/+s90/VcgwjOlqu rNe7t2olmtQY2WAkP+36KdtkfmuDkU0Z3mA4v//1O/cS76mWYgje3tCh/zF2xOymd6B5nq4TJkD/ /pAnj2olmtRoVqYZeXLkYeXx7LF6tDYY2ZSqPlUJ8AlgYeRC1VIMI2fT8bD3ZXiQS7UUQ4iPl262 f5pnwGQ6LBYLIxuM5McdP6qW4hC0wcjGjKg/gp92/qRahiHE348n7PQU6liHMnu2ajXGMGMG1K8P VaqoVqJJj77V+7I7djdHrhxRLcXuaIORjQnyDyLmRgx7zu1RLSXLTN83nUalGvGfYRX54YdHIbau iojrweoAAA7FSURBVNUKY8fC22+rVqJ5Frk8cvFandf4eefPqqXYHW0wsjEebh4MqzeMH3b8oFpK lki0JvLd1u94r+l7tGsHd+7AJhdPM1mxQoYKP/ecaiUaWxhWfxjT9003fYitNhjZnNfrvU7YkTBi bsSolpJpQqJCKJS7EM3LNMfNDUaOhB9c2wY+HF1YLKqVaGyhVP5StK7Qmsl7zLPmTGqY5XYUZil1 oYJ3V77Lfet9xrUfp1pKhhFC0GhiI0Y1HUX3gO4AxMVB2bKwaxdUqKBYYCbYtw/at4dTp+QoQ+Ma 7Dq7ix5ze3Bs5DGXKalvkT0Sm+2AHmFoeKvxW0yLmOaS5Zo3xWziWvw1uvh3efhZvnwwbBh89ZVC YVlg7FgYMUIbC1ejfsn6VClSxdRVbPUIQwPAkLAhlMhXgv899z/VUjJE55mdCfYPZkjdIY99fvky +PnB3r1QpowicZng9GmoWROOHoXChVWr0WSUDac28GrYq0QOj8TDzUO1nGeiRxiaTPFuk3f5Zfcv 3Lp7S7UUmzlw8QB/nfuLQTUHPbWvSBF49VX45hsFwrLAF1/IMifaWLgmLcq2oFjeYsw7OE+1FLug Rxiah/Se35uGJRvydmPXiOXsv7A/gT6BfND8g1T3X7gAAQFw8CCUKOFgcZkgOhrq1IGoKGnwNK7J 8qPLeW/1e0S8HoGbxbn75HqEock07zd9nzHbxnDn/h3VUp7J/gv7WXNiDSMajEjzmGLFZI2pb791 oLAs8MUXssigNhauTftK7fF09yQsKky1FMPRIwzNY/SY24MGvg0Y1WyUainp0mV2F54r9xxvNnoz 3ePOnoXq1WWv3cfHQeIywalTco3yI0e0O8oMLDi0gC83f8nO13Y69ShDjzA0WeKL57/gu23fcTX+ qmopabLt9Db2nNvD6/Vef+axJUtCnz7w9dcOEJYFPvtMRnZpY2EOugV0A2DuwbmKlRiLHmFonmJo 2FAK5CrAN22cb8ZYCMHz055nQPUBvFLnFZvOOX8eAgNhxw6oWNHOAjPBiRPQoIEcXRQyxyKBGmD9 qfW8HPIyh4cfJqdHTtVyUkWPMDRZZnSr0UzcM5HTN06rlvIUq0+sJvZWLINrDbb5nOLF4a234P33 7SgsC4waBW+8oY2F2WhVrhWBRQNNU+AT9AhDkwb/WfMfzsedZ1KXSaqlPMQqrDSc0JB3m7xLr2q9 MnRufLys+jpjBjRrZieBmWDtWnjlFTh0CHLnVq1GYzSHLh2i5ZSWRI2Icso15vUIQ2MI7zV9jyVH lrD/wn7VUh4y4e8JeLp70rNqzwyfmzs3fPmlHGlYnWRxtAcPZN2rMWO0sTArVX2q0iOgB59v/Fy1 FEPQBkOTKgVzFeTT5z5lyJIhTrH85MXbF/lo7UeM7zQ+01EnffqAmxvMnGmwuEzy66/SXdatm2ol GnvySatPmBIxhaNXjqqWkmW0S0qTJlZhpeWUlvSp1ofhDYYr1TJo0SCK5S3Gt22zllSxdSv06gX7 98tlXVVx6RJUrQobNsh/Nebm+23fszhqMesGr3OqMNuMuqS0wdCkS+SlSFpMacGeoXsolb+UEg3r Tq7jpZCXOPjPg+TzzJfl9kaMkBVtp0zJurbM8sorkD8/fP+9Og0ax5FoTaTZ5GYMqjGIYfWHqZbz ED2HoTGUAJ8ARtQfwfBlw1FhlO8+uMs/l/2TH9v/aIixAFnFdtMmCA01pLkMExIC69bB/1yrzqMm C7i7uTMpeBL/Xf9foq9Hq5aTabTB0DyT95u9z9ErR5l/aL7Dr/2fNf8hoEgAXap0efbBNpIvH0ye LBPlrlwxrFmbOH9elv+YPl2OMDTZhwCfAN5u9DZDlgxR0vkyAm0wNM8kp0dOJnWZxIjlIzh+9bjD rrsochELIhcwIXiC4W23aCHnMkaONLzpNLFa4aWXpMFo2tRx19U4D+80eYfLdy4z4W/j72lHoA2G xiYalWrExy0+pvvc7g4pTnji2gmGLhnKnJ5z7Ba//vnn8NdfMHGiXZp/ip9+guvX4eOPHXM9jfOR wz0Hf3b7kw/Xfsj2M9tVy8kwetJbYzNCCAYtHoQQgundpidPmBnO3Qd3aTqpKQNrDOSNRm/Y5RrJ REXJ0cacOdCqlf2us3mzDJ/dtg0qVbLfdTSuwZIjS3h9yevseHUHJfOXVKZDT3pr7IbFYuG3zr9x 4OIBu5U7sAorw5YOo2zBsoxsaH9/kb+/zMvo3VvWcrIHBw5Ajx4yy1wbCw1AZ7/O/KvBv+g6pyvx 9+NVy7EZPcLQZJgT107QdFJTvmvzHf1r9DesXSEE/1z6T/Zf3M/y/svxyullWNvP4o8/5LoZ27cb W9MpOlqWIvn6a+jXz7h2Na6PEIIBiwaQaE3kz+5/KlnSVY8wNHangncFVg9czXur3zNs8k4IwYhl I4i4EOFwYwFyWdRu3eCFF+QaGkZw6RK0bw///rc2FpqnsVgsTAiawNX4q/Sc29MlRhqqDMaLwEEg EaiTznHtgcPAUcC5V/TJZlQrWo31g9fz/zb+P37Y/kOW2npgfcDI5SP569xfhA8Id7ixSOarr2Tk VOPGsG9f1tr6+29ZsrxXL3gz/TWeNNmY3Dlys6TfEvLkyEPbP9tyLf6aaklOSRXAD1hH2gbDHTgG lANyAHuBgDSOFRrJunXrHHq9U9dOiYo/VBRDQoeIa/HXMnx+1OUo0fCPhqL1tNbievx1Q7Vl9ruY NUsIHx8hli3L3HUnTxaiSBEh5szJ3Pn2wNH3hTPjjN9FojVRvBX+lqj2czVx6OIhh10XyJAvX9UI 4zDwrCnGBkiDcQq4D8wGjMveMinr16936PXKFizL7iG7cbO4Ue2Xaiw4tMCmpCSrsPLLrl9oMrEJ A2oMYMWAFRTIVcBQbZn9Lvr0gUWLpJuqZ08ZSWULR4/KNcS//BLWr5ejC2fB0feFM+OM34WbxY0x bccwosEIWkxpwZvhbzrlaMOZ5zBKAilX8DmT9JnGySiYqyC/dv6VOT3n8PG6j2k5pSU/7viRk9dO PnVs5KVIPlzzIRV+qMCf+/5kyz+2MKLBCKcqyAYyse7IEahfX05aDx0q1664cePx4+7ehS1bZBRU kyZQpgzs3AnVqqnRrXFdLBYLr9d7nUP/PETCgwQCfg7g0w2fsiVmC/cS76mWB4A9p+VXAcVT+fw/ QJgN5+uwJxejWZlm7Bm6h+XHlhMWFcbnmz6nQM4CeLp7cjfxLvH347EKK/2q92Nxn8XULFbTbrkc RpAnj1wN77XXYNw4mXAXEQGlS8tIquhoObFdqZI0KFOnyrIjGk1W8Mnrw/jO4xlWbxjTIqYxMnwk R64coUXZFizpu0Tpb0b1r3Ud8G/g71T2NQI+QU58A3wAWIGvUzn2GOCEqzVrNBqNU3MccJnsoHVA 3TT2eSD/mHKAJ+lPems0Go3GpHRDzk/EA+eB5Umf+wJLUxzXAYhCjiA+cKRAjUaj0Wg0Go1Gkw3R iX2S0kj33kHgAODAot1OizuwB9sCLMxMQWA+EAkcQs4NZlc+QP5G9gMzgZxq5TiUScAF5N+eTCFk cNIRYCXyXjEtGUnsMzvFgVpJr/Mh3XjZ9btI5m1gBqBoXT2nYSrwj6TXHoCxyS6uQzngBI+MxBxg sDI1jqc5UJvHDcY3wHtJr0cBXzlalCNpDISneP9+0qaBxcALqkUopBSwGniO7D3CKIB8SGpkbzoK 8EYazjCgtVJFjqccjxuMw0CxpNfFk96ni3NlS2UMndiXOuWQPYkdinWo5HvgXWQYdnamPHAJmIwM Xf8DyKNUkTquAmOAGCAWuI7sVGRniiHdVCT9WyydYwHXNhg6se9p8iH91W8AcYq1qKIzcBE5f6E6 z0g1Hshabb8k/Xub7DsKrwi8iexQ+SJ/K8bV5nd9bKor5coG4yxysjeZ0shRRnYlB7AA+BPpksqu NAGCgZPA/2/vfkKsqgI4jn8HJ9TEAUkXs5mKNiKBBYqBxli7oF2QtHAciSAKZpOEiDBCKxFskRWB i6agCZHaJghNmhZp6EREuwlqkxSRgugkjIvfubzLOG+ct3i9ce73A5f33r2H4SzmvXPPn/s7k8Dz wCc9rVHv/FGOS+XzaRZPh17JtgEXgb+BO8AX5H+lyf6klcYxSG60Viwf7GvpIz+K7/a6IsvMMM2e wwA4R5KhIckJCyUlNMFWsoJwLfm+TABv9rRG/7/HuHfSu1pdepAVPukNPthX2UXG66+SoZgrtCJV mmwYV0ltJT2MaXJX3dRVUpAVQdWy2gnSK2+KSTJ3M0vmfveThQBnaciyWkmSJEmSJEmSJEmSJEmS JEnSsnKhg7JTtN9psvIbWSe/VKPAex2Ulzr2IEeDSMvJzg7KLiW3Z47OsrDMVlPX2WCoabaTp55X A+tIXMSWBcp9CVwu118r5x4lT8U+Qr4752lFZFdhj4MkjuMKeaJ4133q8wF5EvtnEt1R9zbwE0ke fqKc20QyoX4oR9PzkCSpq94BjgEnaL9T44byupb88FefXwVOkfj0D2vlb5TXt4BD5X0fSUWd72ta IYDV311Vzj9ZPs/QirvZSysT6zNavZkhsoseOCQlSV3xEOllfE/7YZ8jJJvrKvAPsKN27QzJL1tX O1c1GM+SLYPHSY7TQuoNxuvAj6U+14CXy/kZEhZX1fev8r6Kbq+O30s9RrHBUJf197oCUg9sJD+y q0gP4ua867vJjoXPALfID3y1tefDZEe/OWA92WOi7jxpNF4EPgaOA5+2qcfjpEeyDfiXbHS0pk3Z ao6ijzRes22uS13jHIaa6CPgMBneWSjue4D0Km4Bm0nDUTlKGoBxsoPdfENkl7uT5Xh6kXoMkAbn Otnt7IXatT5gT3m/h+zlAEkVHauVe6pWXuoqexhqmhHgNvA5uWG6SHoUU7UyX5Ghol9IfP535fww WQ47Ru7oXwL2kajs6g7/OeAA8B8ZphpZpC7TZFjpVzK09G3t2hyZ35gmDdcr5fwY8H453w98A7zB EndMkyRJkiRJkiRJkiRJkiRJkiRJkiRJ0jJxF+in40AIXhGDAAAAAElFTkSuQmCC ",
text: [
"<matplotlib.figure.Figure at 0x11426ba50>"
]
}
],
prompt_number: 254
},
{
cell_type: "heading",
level: 3,
metadata: { },
source: [
"Subplots "
]
},
{
cell_type: "markdown",
metadata: { },
source: [
"You can plot different things in the same figure using the subplot function. Here is an example:"
]
},
{
cell_type: "code",
collapsed: false,
input: [
"# Compute the x and y coordinates for points on sine and cosine curves ",
"x = np.arange(0, 3 * np.pi, 0.1) ",
"y_sin = np.sin(x) ",
"y_cos = np.cos(x) ",
" ",
"# Set up a subplot grid that has height 2 and width 1, ",
"# and set the first such subplot as active. ",
"plt.subplot(2, 1, 1) ",
" ",
"# Make the first plot ",
"plt.plot(x, y_sin) ",
"plt.title('Sine') ",
" ",
"# Set the second subplot as active, and make the second plot. ",
"plt.subplot(2, 1, 2) ",
"plt.plot(x, y_cos) ",
"plt.title('Cosine') ",
" ",
"# Show the figure. ",
"plt.show()"
],
language: "python",
metadata: { },
outputs: [
{
metadata: { },
output_type: "display_data",
png: "iVBORw0KGgoAAAANSUhEUgAAAX0AAAEKCAYAAAD+XoUoAAAABHNCSVQICAgIfAhkiAAAAAlwSFlz AAALEgAACxIB0t1+/AAAIABJREFUeJzt3XmcjeX7wPHP2CqUpWwhSlJaJDv5Gkt+lPhWX2uWqEh9 EVqohFKoRERC1sqSLTtZZuwhGkshIkvZl2wxzPP74zrnO2PMmOWc89zPeZ7r/Xqdl3PmPHPONcc5 17mf+77u+wallFJKKaWUUkoppZRSSimllFJKKaWUUkoppZSy1bPAQtNBKKWUCq5HgdXAKeA4sBIo azQipZRSIXELkuwbAxHAjcBjwIMmg1JKKRUaZYGTydz3HLAiwe04oB2w0/c7nyc6vg3wC3ACWADc EcxAlVJKBe5m4BgwFqgD5Epw33Ncm/RnIWcHhYEjwP/57msA/AaUADIAbwOrQhe2Ukqp9LoXGAPs B2KB74G8JJ30Kye4PRl4w3d9PtLS98sAnEO+HJRypAymA1DKkO1AayRBPwDcDgwCrCSOPZTg+nkg u+96EeAzpNvnJDIgDFAwBPEqFRSa9JWCHcA4JPmnxT6gLdI95L9kA9YGNTqlgkiTvvKiEkAX4lvk hYGmwJpU/G6E7wIwHHgLKOm7nQNoGLwwlQo+TfrKi84AFYAfgbNIst8MdPXdn7CLJ3F3j5XgZzOB /sAk4DSwhfhBXqVcazRwGHnDJ2cwUuUQA5S2IyillFKhURVJ5Mkl/ceBeb7rFdD+TqWUCntFST7p D0dmPvptB/KFOiCllFLXsqNPvyBSC+13AChkw/MqpZRKxK6B3IhEt5OqhVZKKRVimWx4joNcPUOx kO9nVylWrJi1e/duG8JRSilX2Q3cndqD7WjpzwJa+q5XRFY3PJz4oN27d2NZlmMvcXEW8+dbVK1q UbCgxauvWqxaZXHlStoe5+RJi2nTLBo0sMid26JjR4sdO64+pmfPnsb/Xqdc9LVw32uxe7dFhw4W uXJZNG5sMWmSxalTaXuMHj16smKFxRtvWOTLZ1GnjsXChfI5Nf332X0BiqUlIQcj6U9E1iUvgfTd t0FWJWznu38e8DuwC/gSeDkIz2mruXOhXDl47TVo1w727oWBA6FyZciQxlcwZ054+mmYORM2bYLs 2eHRR+Gll+DwNV+FSrnHgQPQvDmULw/ZssHWrTBpEjRuDDlypO2xMmSQz03//vJ5bNRIPp+PPALR 0SEJ3zWC0b3TNBXH/DcIz2O7/fuhY0fYtg0++gjq1097kr+eO+6ADz6Arl2hTx+4/365fvly8J5D KdMuXZJG0scfQ/v2sGcP3Hxz8B7/xhuhdWt47jmYOhVatoSKFeX57tCFrq+hM3KTEBcnb9LSpeHh h2HzZvj3v4Ob8BPKnRs+/RTWroXVq2HSpEi2bQvNc4WbyMhI0yE4Rji+Fj/9BKVKwYoV8v5+//3g JPykXouICGjYEH79FUqWlFb/8OFgadnIVRJX1ZhkWQ743zl6FFq0gLNnYcwYKF7c3ue3LBg9Grp1 g7ffljONUH3ZKBUqcXEwaBD06wdDhkgXjt127ICmTaFIERg1Cm691f4Y7BAREQFpyOWaThJYuVJa Bw8/DFFR9id8kNbK889Lq2jKFHjySTh92v44lEqvY8fkffvdd7BunZmED1CiBKxZA8WKyWd65Uoz cTiNJn2fYcPgmWfkdLBfP8hkRzHrdRQrJgNSRYpApUqg1awqHOzYIf3p998Py5dD0aJm47nhBvjk ExgxQgooJkwwG48TeL57Jy4OuneXapr58+Guu2wPIUXDhsF770mlQxh26yqPiI6WKpp+/WRg1Wl+ +QXq1YNnn4Xevd3TbZrW7h1PJ/2LF2XEf98+mDXL2X1+S5ZAs2ZyJvLUU6ajUepq33wDXbrAxIlQ o4bpaJJ35IgUZRQtCuPGQebMpiMKnPbpp9L58/Ktf+kSLF7s7IQPULMmLFgAL78MX39tOhql4o0Y IYUHy5Y5O+ED5M0LS5dKoUbDhtLw8xpPJv3z56XmPn9+GSy96SbTEaVO6dLS4u/WDb780nQ0SsHQ oTLXZNkyKZMMBzfeKPX8mTLJWfOFC6Yjspfnkr4/4RcoAGPHQsaMpiNKm5Ilpe+0Xz/p6lHKlM8+ k0HSqCi4O9UrvzhDliwyRpYjh+SD8+dNR2QfT/Xp//OPdOmEa8JP6Pff4V//kpnCzZqZjkZ5zZdf yhIIUVHhPev1yhWZwXv6NMyYEZ59/DqQm4wrV6SyIFMm+Pbb8E74ftu2SV//iBHSWlHKDlOnyqTB FSuktDjcxcZKN0+uXDK4G25VPTqQmwTLgg4d4NQpGD/eHQkfpBZ69mx44QUZnFIq1JYulWKCefPc kfBBWvdTpsjCbZ07u3/ZBk8k/T59ZGbejBkyWcNNypWDyZOhSROpQ1YqVDZulPfZd9/JDFc3yZpV GlDR0dC3r+loQsv1SX/MGLnMnw+33GI6mtCoXl0G1J54QpdnVqFx8KB0IQ4fDtWqmY4mNHLmlDwx fLh8sbmVq/v0V66UqdfR0XDffUF9aEfq2RMWLpTyuXApQ1XOd+6cFA00bCjlwm73889Qu3b8PhpO pwO5Pnv3ypo1Y8ZAnTpBe1hHsyzZpOLSJenyCbcBKeU8cXGS7LNnl4q3CCdljBCaNUvW/l+zxvnV STqQC5w5I6eib77pnYQP8oEcPVp2KOrXz3Q0yg169JClC0aM8E7CB8kfXbq4s4Y/GP+NdYBBQEZg FNA/0f2RwPfIlokA04A+STxOUFr6liVdOrfeCiNHeuuN6vfnn3JaOmoU1K1rOhoVrqZPl2qWDRsg Tx7T0djPsqSG37JkdU6n5hK7u3cyAjuAWsBBYD2yfeKvCY6JBLoAKVWSByXp9+8vVTrR0e6r1EmL lStlqejVq91TWqfss307VK0qpZnh0K8dKufPy17Yzz8vZd9OZHf3Tnlkw/O9QCwwCWiQVFwBPk+q LFsmu/V89523Ez7IptHvvisrCp47ZzoaFU7OnpWz5Q8/9HbCBynlnD5dyr7dsglLoEm/ILA/we0D vp8lZAGVgRhgHhCSZZkOHpR1sidMgMKFQ/EM4efll2UnsPbt3T/hRAWHZUmrtnJlePFF09E4w113 ySB248bw11+mowlcoPtDpSaVbAQKA+eBusBM4J6kDuzVq9f/rkdGRqZ6I+jYWFli4ZVXoFatVP2K J0REyAYs5crJm9aJG1soZxk6FH77TboFVby6dWXme/PmsGiR2Vn9UVFRREVFpfv3A+12qQj0QgZz AboDcVw7mJvQHqAMcCLRz9Pdp9+9u9TWzp2rZYpJ2bZNdtyKipKlG5RKyqZNUp++Zk34rZpphytX pFFZo4ZUNTmF3X36G4DiQFEgC9AYmJXomHwJAirvu5444afbokXSpROOCyXZ5f774eOPpd5a+/dV Us6cke6LwYM14ScnY0bZIWzYMCkUCVfBGGCtS3zJ5ldAX6Cd774vgVeA9sBlpIunC7A2icdJc0v/ 8GHZWOTrr52/Y48TPPecdPmMGWM6EuUk/kl9WbNKmbO6vgULZLxj40ZnlLJ6ZkZuXJz0s5UrJyPr KmVnz8rAbp8+MgaiFEgjYMAAWLdOEr9KWbdusHWrLNJmun7fM0n/k0/i6/EzBToc7SHr18vCbBs2 OH96uQq9XbtkuZKlS+HBB01HEz4uXYIqVaQ44uWXzcbiiaQfEyMDKuvXy672Km369ZPVBJcudc/e AirtYmNlAlbTptCpk+lows/OnZL4ly83u6Cj69feuXBB6vE//VQTfnq9/roMeve/Xo2Vcr0PPpA9 Yp0609Tp7rlHJrA1awYXL5qOJvXCrqX/6qsyQWLSJPN9aeHswAHp3583D8qWNR2NstuaNbJF4KZN sme0Sh/LktexeHGpkDPB1d07ixbJbMGYGMid26aoXGziRHj/ffjpJ11/30vOnoVSpWRc7KmnTEcT /o4dk9fz22/NbDDj2qR/8qQMNI0dq7Nug6lJE2npDRxoOhJll5deku4ILd0NnjlzpJts82a4+WZ7 n9u1Sf/ZZ2W55MGDbYzIA06cgIcekg3jda6D+82fL0l/82bpz1fB41+ryO65Dq5M+lOnwltvyVIL WkccfAsWQLt20m2WM6fpaFSo6Bd8aJ05I6/vkCFQr559z+u6pH/4sPSXzZwJFSsaiMojXnpJao9H jzYdiQqVZs1kBulnn5mOxL2io6UEdvNmuO02e57TVUnfPzJesqSURqnQ8bdSPv9cJm8pd5k6Fd5+ W6p19Gw5tLp0kQrDiRPteT5XJf0JE6QMav163RTFDsuWQYsWsGUL5MplOhoVLEeOyBf6jBky+1aF 1oUL8PDDMg/iP/8J/fO5Jun/+ae8cAsWSD25skfHjnDqlPT7Kndo2BDuvBM++sh0JN6xZo3sPrZ5 c+gXZXNF0rcs2YW+dGl47z3DUXnMuXMyhjJgADRIauNLFVamTIGePaVb58YbTUfjLW+8AXv3yv9B KLki6U+YIBNH1q+HLFkMR+VBK1bI2upbt+okuHDmL4L4/nuoUMF0NN7zzz/ScO3dO7Sr2oZ90vd3 6yxcKC+YMqNTJynxmzDBdCQqPSxL+pOLF5cF9pQZP/4oZ8xbtoSumyesk35cnEWDBpL0tVvHrHPn ZPBv4EDpalPhZcoU6NVLNvrQbh2z3ngD/vgDJk8OzeObWGWzDrAd+A14M5ljBvvujwGSbb9/+630 gb3zThCiUgHJlk1q9tu3lxa/Ch9Hj8qA/OjRmvCdoHdvmVg6darpSESgLf2MwA6gFnAQWA80BX5N cMzjwH99/1YAPkM2VE/MypvXYt48KFMmwKhU0HToAH//LXsQq/DQpAkUKiTjYsoZVq+GZ56Rbp5g T9qyu6VfHtgF7AVigUlA4pqP+oA/ZfwI5EQ2S7/G889rwneavn1lYHfuXNORqNSYPl0qdd5/33Qk KqHKlWWmbseOpiMJPOkXBPYnuH3A97OUjimU1IO9+26A0aigy54dRo2SZRpOnzYdjbqe48fhv/+F r77SpbKdqE8f2aI0NtZsHIHuLpvaTW0Tn3ok+Xv9+vX63/XIyEgiIyPTFZQKrho1ZGmGrl3lC0A5 U6dOUhr46KOmI1FJyZo1OJVUUVFRREVFpfv3A+3Trwj0QgZzAboDcUDCjfiGA1FI1w/IoG814HCi x0rTxujKXn//LfsZjBwJtWubjkYlNns2dO4sK6Vmy2Y6GmUnu/v0NwDFgaJAFqAxMCvRMbOAlr7r FYFTXJvwlcPdcguMGCFrhv/9t+loVEInT0qV1ahRmvBVyoJRp18XGIRU8nwF9AXa+e770vfv58jZ wDmgNbAxicfRln4YeP55yJwZhg83HYnya91akv3nn5uORJkQ1pOzNOk736lT8dtW1qxpOho1fz68 /LKUAmbPbjoaZYKJyVnKQ3LmlG6eF16QNfiVOadOQdu2Uq2jCV+llrb0Vbq0aSNlgUOHmo7Eu9q0 kRm3w4aZjkSZpN07yhb+bp7x46F6ddPReM+8efDKK7Je+803m45GmaTdO8oWOXPKYG6bNtrNY7dT p2Qj+6++0oSv0k5b+iogbdrIVpZffGE6Eu/Q11wlpN07ylanT8sSzKNGwWOPmY7G/WbPlpm3MTHa yldCk76y3Q8/SP3+li2QI4fpaNzr+HEZR5k4EapVMx2NcgpN+sqIl16CS5dkDXcVGk2bQv78srGN Un5pTfqBLrimFAAffyz7sc6apTtthcKUKbJk8qZNpiNR4U5b+ipoVqyQVR5jYiBvXtPRuMdff8l+ 0brBuUqKdu8oo7p1g+3bYcYMiHDSuytMWZYsa122rO4brZKmdfrKqN69Yc8eWZtHBe6LL+DYMejR w3Qkyi2c1BbTlr5LbNkiG6+sWwd33mk6mvC1Y4dsiLJyJZQoYToa5VTa0lfGPfigdPM8+yxcvmw6 mvAUGwvNm0uXjiZ8FUya9FVIdO4sKz/qBt3p07Mn5MkjpbBKBZN276iQ8VedfPcdVK1qOprwsWQJ tGwp5ZlaBaVSYmf3Tm7gB2AnsAjImcxxe4HNwCZgXQDPp8JMgQKyPEPz5rKln0rZ0aPQqhWMG6cJ X4VGIC39j4Bjvn/fBHIB3ZI4bg9QBjiRwuNpS9+lOnSAQ4dkgpGWcSbPsuDJJ+GBB6BfP9PRqHBh Z0u/PjDOd30c8O/rHKsfdQ/7+GPYtUs3+0jJ4MHS0tdxEBVKgSTjk0jr3v84JxLcTuh34DRwBdko fWQyj6ctfRfbtQsqV5Y9XcuUMR2N86xdK8tXrF0Ld91lOhoVToK99s4PQP4kfv52otuW75KUKsBf QB7f420HVqQ2QOUOd98tLf1GjeCnn2QTFiWOHZPXZdQoTfgq9FJK+tdbIf0w8oVwCCgAHEnmuL98 /x4FZgDlSSbp9+rV63/XIyMjiYyMTCE8FU7+8x9Yvhxat4bp07V/H+DKFZnP0KyZLlSnUicqKoqo qKh0/36gA7nHgf7IAG5Orh3IzQpkBM4A2ZAqn96+fxPT7h0PuHgR/vUveOopmcDldb17w9KlUqaZ Sde8Velg54JruYEpwB1IWWYj4BRwO9Jv/wRwFzDdd3wm4BugbzKPp0nfIw4ehPLlpTujbl3T0Zgz e7ZMvtqwQcpblUoPXWVThYVVq6S1v2oVFC9uOhr7bdsGkZGS+CtWNB2NCme69o4KC1WqSGligwbw 99+mo7HX8ePyd3/yiSZ8ZT9t6Suj2rWD/ftlxy0v9GnHxkKdOrI8xSefmI5GuYF276iwEhsL9epJ qeKwYe6u6LGs+C+5OXMgY0bTESk30O4dFVYyZ5YF2Vatcn/L9/33ZdB2yhRN+MocD5xQK6e75RaY Nw8qVYIiRWSiktuMHi27ia1eDTffbDoa5WWa9JUjFCokXR61a0OOHPB//2c6ouCZNw/eeguioyF/ UvPblbKRdu8oxyhVSjZUb95cEqQbLFkCzz0nf5fugKWcQJO+cpTKlWHSJFmyYe1a09EEJioKmjSB qVOl60opJ9CkrxynZk3p/27QAH780XQ06bNypYxNTJkiy04o5RSa9JUjPfEEfPWVbCqyZInpaNJm 8WJ4+mn45huoXt10NEpdTZO+cqx69aScs2lT6RMPB5MmyaqZ06bBY9dbo1YpQ7R6RzlatWqy8Uq9 erKrVNu2piNK3qBBMGCAnJk88IDpaJRKmpPmP+qMXJWsnTtlvfkaNSS5ZsliOqJ4ly5Bly6S7Bcu hDvuMB2R8hKdkatc6Z57ZFD3wAGoVQuOJLdlj83275eB2oMHpdpIE75yOk36KmzkyAEzZ8qSxGXK SKvapEWLZF+Ap5+WncBy5DAbj1Kpod07KiwtWQJt2sjM3QED7F3a4ORJeO01+OEHKS2tUcO+51Yq Me3eUZ5QsyZs2QJxcfDQQ1ItE+o2g2VJ3f3990PWrLIRiiZ8FW4CSfoNgW3AFeCR6xxXB9gO/Aa8 GcDzeUYgmx67zfVei1tukS0XR46EDz6QDUmWLQt+DJYl6+dUqAB9+sgM2yFD7F84Td8X8fS1SL9A kv4W4Clg+XWOyQh8jiT+kkBT4L4AntMT9A0dLzWvRa1asmTxq6/CCy/IwOqECXDhQmDPff681N1X qgRvvAGvvw4//yxLRZig74t4+lqkXyBJfzuwM4VjygO7kI3TY4FJQIMAnlOpJGXIIJO4tm+HTp3g 229l5c6XXpKWeWqrfY4ckX1rW7WCggVhzBjo2hU2b4aGDeV5lApnoZ6cVRDYn+D2AaBCiJ9TeVjm zPDMM3LZtw8mT5bB1hdekGWNixeHAgXk+o03wunTskfv4cPw009yvWxZmQzWv78uhazcJ6UR3x+A pN72bwGzfdeXAV2BjUkc9wzStfOi73ZzJOl3SOLYXUCxFOJRSil1td3A3ak9OKWWfqCrhxwECie4 XRhp7Scl1UErpZQyZxlQJpn7MiHfQkWBLMDP6ECuUkqFpaeQ/voLwCFgvu/ntwNzExxXF9iBdN90 tzNApZRSSimllEE6eUsURrrKtgFbgY5mw3GEjMAm4osGvConMBX4FfgFqGg2HKO6I5+RLcC3wA1m w7HVaOAw8rf75UYKbnYCi5D3iqNlRLp9igKZ8Xaff37gYd/17EiXmFdfC78uwDfALNOBJLAVsHsD xHFAG9/1TIBXl3YrCvxOfKKfDLQyFo39qgKluTrpfwS84bv+JtDP7qDSqhKwIMHtbr6LgplATdNB GFQIWAxUJ7CWfjNgA3AG+BOYB1QJODr75EASnZJW7Q4gF/LlNxuoZTQi+xXl6qS/Hcjnu57fd/u6 TM8vTGryVkFDsThJUeQbPUy3BQ+KgcDrQFwAj9HF9zh9gLxIF9pQoH7A0dnnTuAoMAaZCzMSyGo0 InNOAAOAfcgX+CmkYeBl+ZAuH3z/5rvOsYD5pK9rKV8rO9J/2wk4azgWU+oBR5D+/PQu/50D6A28 jJw1XUAWB5yLnAbfAAxC5pIcRL4c/Ptx3QbMAU4Cx7l6fam9gH9tzV7AFKT75W+k6ydh+fLtwDTf 3/I7SU9KTEkmZEHDYb5/z+Hds+FiwKtIo+h25LPyrMmAHMYiFTnVdNJPy+QtL8iMJImvkUTlVZWR 1vgeYCKSZMen8TEqATcCyW2p/jayNlQp36U88I7vvq7IGehtyBlCwlLjxB+qJ30x5kDGHj73/TwD 0v2wCUlQNZGEVTuNf8cB32W97/ZUrr+qrZuVBVYjX8SXgenIe8XLDhO/akIBpIHhaDp5K14EktgG mg7EYaqRvj79Z4G/rnP/LqRyzK828iUDcoYwk6SXBdnD1S39RQnuKwmc912vAPyR6He7IxUYabUc uCfBc/ZPx2O4QSnkbOom5PMyDnjFaET2K8q1A7n+qsduhMFALujkLb9Hkf7rn5HW4SauTkpeVY30 Ve/UQVZ2Te5s9jxXNzDuBS76rmcHPkEaJLu5upQ4cdKfkOC+osj/YQagke/5Tya4/I10G6VVKaSl H4O0br1avQNSqeIv2RyHnB17xURkLOMScibaGhncXkwYlWwqFSo5kDGRZ5K5fxfS4PBL2NJP6H7k FLq673Zqk34lUl56XCnbme7TVypUTgPvItU6DZCKl8xIou+PtJreQfrtb/Md60/g9ZAFACOQ1vkV 0l5FtA4pE30D6Y7ICDyA9EsrpZQKkWZI18hZpI9/NjKj9QbgM+R0+U+kksdfvfMq0qI/i5xGv53g 8RK29Hty9QBzUeQLwt+YKoDMGv0LKTdcneB3lQpbSU0NTmwwssxCDFJ/rpRSKkwlNTU4oceRWZAg FQ1r7QhKKaVU6BQl+aQ/HGic4HbCacNKKaVsZMdAblJLLRSy4XmVUkolEuqN0f0ST6W/ZqpwhgzF rLi43TaFo5RSrpGmPXLtaOknXmqhkO9nV4mL201cnMWpUxbr1lkMGmTRqJFF3rwWlSpZjBgh91mW +y89e/Y0HoNTLvpayGX3bovq1XtSsqRFkSIW7dpZjBxpsXGjxcWL1x5/9qzFzp0WkydbtG9vce+9 8ll6/XX5uem/R98XwbuQ9MzxZNmR9GcBLX3XKyIr4x1O6sCICMiRA8qVg06dYPJkOHAA3noLFi6E IkWgY0c4dMiGqJVygF9+gaZNoUIFOHsWRo6EPXtg+HB44QUoXRqyZLn297Jlg+LFoVEjGDYMfv0V Vq6Uz9ijj0KNGrB0qf1/jzIvGEl/IlJ/XALpu28DtPNdQCp3fkdmQH6JrHqYapkzQ716MHUq7NgB GTPC/fdDt25w4kQQolfKgXbvhsaNoXp1ePhh+P13ePxxqFxZEnd6FC8O/fvD/v3w/PPw4otQty5s 3hzc2JVKLSu19u2zrLZtLSt/fsuaMsWy4uJS/athYdmyZaZDcAyvvRaxsZbVv79l3XqrZX34oWWd ORN/X7Bfi4sXLWvwYMvKm9eyXnrJsv7+O6gPH1Jee19cD2lcoj69a5WHgi/+1Fu7Flq3hpIlYehQ yJ8/5d9Ryqk2bYI2bSBPHum+uesue5739Gno0gWWLYOxY+Ffdm8GqQISIad+qc7lYb32TsWK8kEp UUJOgRctSvl3lHIay5Ik/3//B507y/iVXQkfZBztq69g8GAZP3jtNYiNte/5lb3CuqWfUHS0vGE7 doQ330x/v6dSdjp3Dl56CWJiZNzqnntS/p1QOn4cWraE8+dhyhQ561DO5qmWfkLVqsG6dTBjBjRs KJUOSjnZvn1ytpohg3RVmk74ALfeCrNmQaVKUL68fBkpd3FN0gcoVAiWL4dbbpGStGPHTEekVNK2 boUqVWRMauxYyOqgrc4zZoQPP4S+faFWLZg713REKphclfQBbrhB+idr1ZJ65H37TEek1NWio6VR 8tFHMoDq1K7IJk1gzhwZXJ40yXQ0KljsWobBVhER0lLJk0cS/4IFUuGjlGn+JDpxItSsaTqalFWo AIsXQ506UuXTrl3Kv6OczZVJ369zZ7jtNmn1L1kC93l1y3XlCPPmyaSouXNl1nm4ePBBOTt57DEZ eO7SxXREKhCuTvoALVpISdxjj0FUFNyd6mWJlAqehQvhuedg9uzwSvh+d98NK1ZIDf9NN0H79qYj Uunl+qQPUoL2zz9yOh0dDUWLmo5IecnixdL4mDlTukvCVaFC8MMPEBkJ2bPL36TCjyeSPkDbtnDx oiT+Vat09q6yx4YN0KwZTJsm6+aEu2LFZBJkjRpScfTMM6YjUmnlmaQP0KEDnDwJTzwhLf7s2U1H pNxs926oX19Wxqxa1XQ0wXPffTB/PtSuLWNm1aqZjkilhZOKxQKakZv6J5ElaQ8dgu+/h0ye+tpT djlyROrwX3vNvRUvS5bIWUx0NNx7r+lovMuzM3JTKyJC1jm5cgVeeUW+BJQKpvPn4cknpc7drQkf pKu0Xz9Z8vnIEdPRqNTyXEvf78wZqURo1gxef922p1UuZ1nynsqQAb7+2rkTr4Lp3XelOmnZMmfN LPaKtLb0nfSWtDXpg2wmUaECjB4tk0+UCtSHH0qVTnS0lDZ6gWVB8+Zy3StfdE5ionunDrAd+A14 M4n7I4HJnK3sAAAS2UlEQVTTwCbf5Z0gPGdQFC4sKwm2bAk7d5qORoW777+XrQlnzvROwgdJ8iNH ypaMAweajkalJNDv5IzADqAWstn5eqAp8GuCYyKBLkD9FB7L9pa+34gR8mZdu1bWFlcqrbZtk60N 58yR1Sm96I8/ZNXQCRNkFryyh90t/fLI3rd7gVhgEtAgqbgCfJ6QattWPrAtWkBcnOloVLg5c0bq 1T/+2LsJH6BIEVlTqHlz2bxdOVOgSb8gshm63wHfzxKygMpADLJJuiOXPhs0CI4ehU8+MR2JCieW JevpVKsGrVqZjsa8yEjo3l2+BP/5x3Q0KimBJv3U9MdsBAoDpYAhwMwAnzMksmSByZPh009lTX6l UmPwYJmE9dlnpiNxjo4dZa0eXZjNmQKdmnQQSeh+hZHWfkJnElyfDwwDcgMnEj9Yr169/nc9MjKS yMjIAMNLmzvugDFjpORu40bIm9fWp1dhZvVqqdZZuxZuvNF0NM7hH9gtU0YaUo0bm47IXaKiooiK ikr37wfa154JGcitCfwJrOPagdx8wBHkrKA8MAUomsRjGRvITeydd+SDvHCh7CKkVGInTkDp0vD5 5zIRS11r0yZZqmHVKmdsBelWdg/kXgb+CywEfgEmIwm/ne8C8B9gC/AzMAhoEuBzhlyvXnD5MvTv bzoS5UT+pTyefloT/vWULg3vvy97Vmv/vnM4qarGMS19kIlbZctK7XXFiqajUU4yfLiU+a5ZI9tz quRZlnTvFCig4x6hojNyg2jGDOjaVU5TtX5fgWxoXr26dlmkxcmT8PDD8MUXsk6PCi5N+kHWvr3s DfrNNzq93OsuXJBdr157TXbBUqm3fLksQLdpE+TLZzoad9GkH2T+D/obb8hyDcq7OnaU1SQnTtQG QHr06CGbysydKwvSqeDQpB8CMTEyrXz9et1q0asWLZLB25gYyJXLdDThKTZWNpNp1ky+QFVwaNIP kY8+khbK0qVaxuk1x49DqVIwbpysIa/Sb9cuqFRJunvuu890NO6gm6iESNeuUomgqwh6i2XJRiiN GmnCD4a775YyzhYtpOWv7Kct/TTYu1f695csgYceMh2NssP48XKWt2GDzroNFsuSfarLloX33jMd TfjT7p0QGzcOBgyQ/n2t0Xa3/ftlKYFFi6TkUAXPX3/JazprlmxkpNJPu3dCrGVLuPNObaG4nX/1 zI4dNeGHQoECMHSofJ7OnzcdjbdoSz8dDh2Sgb3Zs729frqbDR8u22iuXg2ZAl2WUCWraVP5Avj0 U9ORhC/t3rHJ5MmyRs/Gjd7aGs8Ldu+WLocVK7TCJNSOH4cHH5TPU9WqpqMJT5r0bdSokeyzO2CA 6UhUsMTFyTIL9etLxZYKvVmzZO39mBjIls10NOFHk76Njh2TVsrUqVCliuloVDAMHgxTpkB0tM7H sFOrVnDzzbJUtUobTfo2mz4dunWDn3+GrFlNR6MCsWuXrKi6erUupma3U6ekATV+vJxpqdTTpG9A 06Zw++3azRPO/N06//43dO5sOhpvmjsXOnSAzZshe3bT0YQPTfoG+Lt5pk2DypVNR6PSY8gQGUzU bh2znntOunmGDDEdSfjQpG/ItGnw1lvSzaPVPOFl927p1tE18s07eVIaUN98A9WqmY4mPJiYnFUH 2A78BryZzDGDfffHAKWD8JyO88wzsj1cjx6mI1FpERcnk7C6d9eE7wS5cslmK23awLlzpqNxp0CT fkbgcyTxl0Q2RU9c2fw4cDdQHGgLfBHgczrWkCHSQlm71nQkKrWGD4dLl6BTJ9ORKL8nn5Ru0u7d TUfiToEm/fLALmAvEAtMAhokOqY+MM53/UcgJ+DKvXPy5JF9QFu31o2gw8HevdCzp8y81X58Z/ns MymFXrHCdCTuE2jSLwjsT3D7gO9nKR1TKMDndayGDaFkSejd23Qk6nosC158UbY+vPde09GoxHLn lrV52rTRtXmCLdBVRVI78pp4kCHJ3+vVq9f/rkdGRhIZGZmuoEyKiIBhw2Tp5WeekeVjlfOMGiV7 H+usW+d66impqOrRQ8uhE4qKiiIqKirdvx9o9U5FoBfSpw/QHYgD+ic4ZjgQhXT9gAz6VgMOJ3qs sK7eSezbb6FvX1mHXZdgdpZ9+2TJ5GXL4IEHTEejrufoUanmmTFDdtxS17K7emcDMkBbFMgCNAZm JTpmFuDfUrwicIprE77rNG0Kd90FH3xgOhKVkGVB27bw6qua8MNBnjyyNIaOkwVPMOr06wKDkEqe r4C+QDvffV/6/vVX+JwDWgMbk3gcV7X0QTaKKFUKFi6Uck5l3ujRsr7Ljz9C5symo1GpYVkyVnb3 3dCvn+lonEcnZznM+PGyVvi6dZAli+lovO3gQfnyXbxYt7sMN4cPy/+Z7mFxLd05y2FatICCBaV/ X5nj3+D8lVc04YejfPm0HDpYtKVvA38L84cfpLtH2W/sWBg0SM+4wpllSUXcvffChx+ajsY5tHvH ocaOlZbKjz9q0rHbgQPxX7q63214829VOmcOlCtnOhpn0O4dh2rVSrp5tIViL/8krA4dNOG7Qf78 0nhq1Uq7edJLW/o2+vNPSTwLFsAjj5iOxhu0Wsd9/NU8xYpB//4pH+922r3jcBMmwMcfw/r1Omkr 1Pbvly/XJUt08NZtjh6V/9Pp03XSlnbvOFzz5nDnnbo2T6jFxUmlx6uvasJ3ozx55Azuued0bZ60 0pa+AYcPy2CUTi0PnaFD5axq5UrIFOgKU8qxmjWDvHmlMsurtHsnTEybJuuFb9oE2bKZjsZdfvtN vkxXrYISJUxHo0LpxAk5kxs/HmrUMB2NGZr0w0iLFpAjh5ymquC4cgWqVoUmTaBjR9PRKDssXCjr KcXEQM6cpqOxnyb9MHLqlLRSRo2C2rVNR+MOfftKPf7ixZBBR6w84+WX4exZafF7jSb9MLN4sQw4 xsTIxhEq/TZsgMcfh59+gsKFTUej7HTunJRD9+sns3a9RJN+GOrcWcoLv/tONmFRaXfunJRn9u4t XTvKe9auhQYNYONGmQjpFZr0w9A//8jKgZ07S6tfpV379nJ6P2GC6UiUSe+9B8uXw6JF3une06Qf prZuherVYc0aWTdcpd7s2TJo+/PPMjCuvOvyZYiMlBb/66+bjsYemvTD2JAh0lJdtUqXDEitP/+U rQ+/+w4efdR0NMoJ/vhDFmObP1/eG25n54zc3MAPwE5gEZBcsdReYDOwCVgXwPO53n//KzMN33nH dCTh4coVmeHcvr0mfBWvSBHZYrFZM+nyU1cLpKX/EXDM9++bQC6gWxLH7QHKACdSeDzPt/RB1hR5 5BEYMQLq1jUdjbO99x5ERUmJZsaMpqNRTtOmDcTGShmnmwsk7Oze2Q5UQzY5zw9EAfcmcdweoCxw PIXH06Tvs3w5NGokpYdeqkJIi+hoaNxYKjVuv910NMqJzp+XAokuXeQLwK3sTPonkda9/3FOJLid 0O/AaeAKslH6yGQeT5N+An36SAXC0qW6dkxix47Jpih6NqRS8ssvUK2afI4efNB0NKGR1qSfUjr5 AWnFJ/Z2otuW75KUKsBfQB7f420HViR1YK9evf53PTIyksjIyBTCc6/u3aU127MnfPCB6Wic48oV aNoUnn1WE75KWcmSMGCAnDmvXw/Zs5uOKHBRUVFERUWl+/cD7d6JBA4BBYBlJN29k1BP4CwwIIn7 tKWfyJEjULasDEr9+9+mo3GGt9+WSTgLF+oZkEq9Nm2ku2fiRPf179tZvTMLaOW73gqYmcQxWYGb fdezAbWBLQE8p6fkzSuliC++CDt2mI7GvO+/l5LWiRM14au0GToUdu2CTz81HYl5gXzn5QamAHcg ZZmNgFPA7Ui//RPAXcB03/GZgG+Avsk8nrb0kzFyJAwcKFv+3Xxzyse70W+/QZUqMhGrQgXT0ahw tG+fvHcmTIBatUxHEzw6OculXnwRTp6EKVO8M73c7/RpqFhRdsFq1850NCqcLVsmY0Jr1sgOdm6g Sd+lLl6UTSJq1ID33zcdjX0uX4YnnpDNUAYPNh2NcoNBg2DsWFixwh1nzpr0XezIEWnx9uoFLVua jsYeHTvKeMbcudqPr4LDsuSM8eBBGScK9/eVbozuYnnzwpw58Npr0kpxuy++kNm2kyeH/wdTOUdE hAzsXr4MnTrJl4CXaNIPMyVLwtdfQ8OGsHOn6WhCZ9YsWWZhzhxvboGnQitzZhkfW74cPvvMdDT2 0qQfhmrXlglbtWvDgQOmowm+5cvhhRekUqdYMdPRKLfKkUO6DT/5RM4mvUJPmsPU889LNc9jj0lX z223mY4oOGJi4D//gW+/lYlpSoXSHXfIEsyPPSazdZ94wnREoacDuWHurbek33vp0vCvRNi1S9ZJ GThQps0rZZd166BePWnxV69uOpq00eodj7EsWU9+2zY5Vb3lFtMRpc/OnVCzJrz7rsxJUMpuUVHS 2Jg1S6rkwoVW73hMRAQMGwYPPCB9/KdOmY4o7bZvl/kHvXtrwlfmREZK/X79+vIF4Faa9F0gQwZJ /JUqSfI8dsx0RKm3bZu08D/80N1rnqvw8Pjj0sXTqBHMm2c6mtDQpO8SERGymFTdutIv/scfpiNK WXS0fEl9/LF3Jpsp56teXbp4WreWsk630aTvIhERUsr54ovS6l+71nREyfv6a2lNTZwoe5kq5SQV K8omRl26yFmom4YbdSDXpebOlZbK4MHQpInpaOLFxcmkq3HjJMaSJU1HpFTyDh6UvSyKF4evvoKb bjId0bV0IFcBUm+8eDF06wZdu8qCbaYdPizdT4sXyyqHmvCV0xUsKJMFIyLgX/+CPXtMRxQ4Tfou 9tBDsrn6nj1yuvrrr+ZiWbIEHnkEypWTyoj8SW3CqZQD3XSTdEc2bSobrY8eHd7dPdq94wGWJRux vP02vPMOvPKKfQuYnTwJPXrAjBnSpeOmzSuU92zZAs2by1r8X34J+fKZjsje7p2GwDbgCvDIdY6r g+yn+xvwZgDPp9IpIgLatoWVK6Uq4eGHpYsllOLipOa5ZEnZzHzLFk34Kvw9+KDM3r3vPrj/fujX Dy5cMB1V2gSS9LcATwHLr3NMRuBzJPGXBJoC9wXwnJ4QyE7311OihCT7Pn1kPfH69aVvPZgnWJcv S5lbuXIyd2D2bFkiOXfu9D1eqF6LcKSvRTyTr8UNN0DfvvLZWb9ePldjxzpj3Cw1Akn624GUFvct D+xC9tCNBSYBDQJ4Tk8I5Rs6IkKqEbZtk5Z3ixayb+g33wTWYjl0CIYMid/h6t13pWQ00EXTNNHF 09cinhNei+LFYdo0WRzw669l8bbu3WHvXtORXV+oB3ILAvsT3D7g+5ky7MYb43el6tFDWir58knV z+efw9at1/8SOHkSVq2SiVVVqsjp7po1MH68dCM1aOC9vXyVNz36qJxBL18O//wDZcrImW63bvLz v/82HeHVUhrO+wFIqs7iLWB2Kh5fR2YdLmNGePJJuZw8KSt2zpsnrfY//pAlm4sUkQR+5Yp03+zf D2fPSn99mTLSqo+MlNNepbyqRAlZIbZ/fznLXbxYPhsxMVI4UbiwHDNtmtk4g1G9swzoCmxM4r6K QC+kTx+gOxAH9E/i2F2AbpmhlFJpsxu4284nXAaUSea+TEhARYEswM/oQK5SSoWlp5D++gvAIWC+ 7+e3A3MTHFcX2IG05LvbGaBSSimllFLKIJ28JQojXWXbgK1AR7PhOEJGYBOpKxpws5zAVOBX4Bdk rMyruiOfkS3At4CXygdGA4eRv90vN1JwsxNYhLxXHC0j0u1TFMiMt/v88wMP+65nR7rEvPpa+HUB vgFmmQ7EsHGAf4uZTEAOg7GYVBT4nfhEPxloZSwa+1UFSnN10v8IeMN3/U2gn91BpVUlYEGC2918 FwUzgZqmgzCoELAYqI63W/o5kESnpFW7A8iFfPnNBry2uEdRrk762wH/CkD5fbevy/T0GZ28lbSi yDf6j4bjMGkg8DpS4utldwJHgTFIWfRIIKvRiMw5AQwA9gF/AqeQhoGX5UO6fPD9m+IScKaTvk7e ulZ2pP+2E3DWcCym1AOOIP35TloJ1oRMyIKGw3z/nsO7Z8PFgFeRRtHtyGflWZMBOYxFKnKq6aR/ EBnA9CuMtPa9KjMwDfga6d7xqspAfWAPMBGoAYw3GpE5B3yX9b7bU7n+qrZuVhZYDRwHLgPTkfeK lx0mftWEAkhjydF08la8CCSxDTQdiMNUw9t9+iAr2d7ju96LpGe0e0EppLLtJuTzMg54xWhE9ivK tQO5/qrHboTBQC7o5C2/R5H+65+Rbo1NxC9f4WXV0OqdUkhLPwZp3Xq1egekUsVfsjkOOTv2ionI WMYlZCy0NTK4vZgwKtlUSimllFJKKaWUUkoppZRSSimllFJKKaWUUkoppZRSSqmw9P+90XnzPfRO oQAAAABJRU5ErkJggg== ",
text: [
"<matplotlib.figure.Figure at 0x11426b710>"
]
}
],
prompt_number: 255
},
{
cell_type: "markdown",
metadata: { },
source: [
"You can read much more about the `subplot` function in the [documentation](http://matplotlib.org/api/pyplot_api.html#matplotlib.pyplot.subplot)."
]
},
{
cell_type: "code",
collapsed: false,
input: [ ],
language: "python",
metadata: { },
outputs: [ ]
}
],
metadata: { }
}
]
}
